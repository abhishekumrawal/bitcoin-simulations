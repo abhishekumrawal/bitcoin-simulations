{
 "cells": [
  {
   "cell_type": "code",
   "execution_count": 369,
   "metadata": {},
   "outputs": [],
   "source": [
    "import numpy as np\n",
    "import sympy\n",
    "sympy.init_printing(use_unicode=True)\n",
    "from sympy import symbols,simplify,diff,latex,Piecewise\n",
    "from sympy.solvers import solve\n",
    "from IPython.display import display\n",
    "from typing import Callable\n",
    "from sympy.utilities.lambdify import lambdify, implemented_function\n",
    "\n",
    "%matplotlib inline\n",
    "import matplotlib.pyplot as plt\n",
    "\n",
    "def simplified(exp, title=None):\n",
    "    simp = simplify(exp)\n",
    "    if simplified.LOG:\n",
    "        if title: display(title,simp)\n",
    "        else: display(simp)\n",
    "    return simp\n",
    "simplified.LOG = True\n",
    "\n",
    "def firstOrderCondition(exp, var):\n",
    "    diffExp = simplified(diff(exp, var))\n",
    "    solutions = solve(diffExp, var)\n",
    "    if firstOrderCondition.LOG:\n",
    "        display(solutions)\n",
    "    return solutions\n",
    "firstOrderCondition.LOG = True\n",
    "  \n",
    "class Result(object):   # a class for holding results of calculations\n",
    "    def __repr__(self): return self.__dict__.__repr__()\n",
    "    def display(self):\n",
    "        for k,v in sorted(self.__dict__.items()):\n",
    "            display(k,v)\n",
    "    def subs(self, params):\n",
    "        ans = Result()\n",
    "        for k,v in sorted(self.__dict__.items()):\n",
    "            if hasattr(v,\"subs\"):\n",
    "                ans.__dict__[k] = v.subs(params)\n",
    "            else:\n",
    "                ans.__dict__[k] = v\n",
    "        return ans"
   ]
  },
  {
   "cell_type": "markdown",
   "metadata": {},
   "source": [
    "# Symbolic calculations"
   ]
  },
  {
   "cell_type": "code",
   "execution_count": 431,
   "metadata": {},
   "outputs": [
    {
     "data": {
      "image/png": "[encoded data removed]",
      "text/latex": [
       "$$\\left ( \\Delta, \\quad \\tau\\right )$$"
      ],
      "text/plain": [
       "(\\Delta, \\tau)"
      ]
     },
     "execution_count": 431,
     "metadata": {},
     "output_type": "execute_result"
    }
   ],
   "source": [
    "a,p,r,b,vmax,bmin,bmax,beta = symbols('a p r b v_{\\max} b_{\\min} b_{\\max} \\\\beta', positive=True)\n",
    "w,T,D,L,n,Supply = symbols('w T \\\\Delta L n \\\\tau', positive=True)\n",
    "D,Supply"
   ]
  },
  {
   "cell_type": "code",
   "execution_count": 432,
   "metadata": {},
   "outputs": [
    {
     "data": {
      "image/png": "[encoded data removed]",
      "text/latex": [
       "$$1$$"
      ],
      "text/plain": [
       "1"
      ]
     },
     "metadata": {},
     "output_type": "display_data"
    },
    {
     "data": {
      "image/png": "[encoded data removed]",
      "text/latex": [
       "$$1$$"
      ],
      "text/plain": [
       "1"
      ]
     },
     "metadata": {},
     "output_type": "display_data"
    }
   ],
   "source": [
    "def exactCostPerDay(T):\n",
    "    return (a*p + w*b*( (1+r)**T - 1 )) / T\n",
    "\n",
    "def approxCostPerDay(T):\n",
    "    return a*p/T + w*b*r\n",
    "\n",
    "def symmetricLifetime(w):\n",
    "    return w**2/4/L\n",
    "\n",
    "def asymmetricLifetime(w):\n",
    "    return w / D\n",
    "\n",
    "\n",
    "uniformPDF = Piecewise( (1 / bmax , b<bmax), (0, True) )\n",
    "powerlawPDF =  Piecewise( (0 , b<bmin), (bmin / b**2, True) )\n",
    "\n",
    "display(sympy.integrate(uniformPDF, (b, 0, np.inf)))  # should be 1\n",
    "display(sympy.integrate(powerlawPDF, (b, 0, np.inf))) # should be 1"
   ]
  },
  {
   "cell_type": "code",
   "execution_count": 433,
   "metadata": {
    "collapsed": true
   },
   "outputs": [],
   "source": [
    "params = {\n",
    "    L: 10,           # total transfers per day \n",
    "    D: 6,            # delta transfers per day \n",
    "    beta: 0.01,      # value / transfer-size\n",
    "    r: 4/100/365,    # interest rate per day\n",
    "    a: 1.1,          # records per reset tx\n",
    "    Supply: 288000,  # records per day\n",
    "    bmin: 0.001,     # min transfer size (for power law distribution)\n",
    "    bmax: 1,         # max transfer size (for uniform distribution)\n",
    "}"
   ]
  },
  {
   "cell_type": "code",
   "execution_count": 512,
   "metadata": {},
   "outputs": [],
   "source": [
    "def calculateMarketEquilibrium(costPerDay:Callable, channelLifetime:Callable, wSolutionIndex:int):\n",
    "    T = simplified(channelLifetime(w), \"T\")\n",
    "    CPD = simplified(costPerDay(T), \"CPD\")\n",
    "    optimal = Result()\n",
    "    optimal.w = simplified(firstOrderCondition(CPD,w)[wSolutionIndex], \"Optimal channel funding (w)\")\n",
    "    optimal.T   = simplified(T.subs(w,optimal.w), \"optimal channel lifetime (T)\")\n",
    "    optimal.CPD = simplified(CPD.subs(w,optimal.w), \"Cost-per-day\") \n",
    "    optimal.RPD = simplified(a / optimal.T, \"Potential records per day\") \n",
    "    optimal.C   =   simplified(optimal.CPD*optimal.T, \"Cost between resets\") \n",
    "    optimal.V   =   simplified(optimal.T*L*beta*b, \"Value between resets\")\n",
    "    optimal.VCR1 = 1\n",
    "    optimal.VCR2 = simplified(optimal.V / optimal.C, \"Value/Cost Ratio of lightning\")\n",
    "    optimal.VCR3 = simplified(beta*b / p, \"Value/Cost Ratio of blockchain\")\n",
    "    optimal.b12  = simplified(solve(optimal.VCR1-optimal.VCR2,b)[0],\"b below which an agent prefers nop to lightning\")\n",
    "    optimal.b13  = simplified(solve(optimal.VCR1-optimal.VCR3,b)[0],\"b below which an agent prefers nop to blockchain\")\n",
    "    optimal.b23  = simplified(solve(optimal.VCR2-optimal.VCR3,b)[0],\"b below which an agent prefers lightning to blockchain\")\n",
    "\n",
    "    # Calculate threshold prices. This part is relevant only for uniform valuations.\n",
    "    optimal.p12 = simplified(solve(optimal.b12-bmax,p)[0],\"price above which all agents prefer nop to lightning\")\n",
    "    optimal.p13 = simplified(solve(optimal.b13-bmax,p)[0],\"price above which all agents prefer nop to blockchain\")\n",
    "    optimal.p23 = simplified(solve(optimal.b23-bmax,p)[0],\"price above which all agents prefer lightning to blockchain\")\n",
    "\n",
    "    \n",
    "    # substitute the numeric params:\n",
    "    numeric = optimal.subs(params)\n",
    "    numeric.b23 = numeric.b23.evalf()\n",
    "    numeric.p23 = numeric.p23.evalf()\n",
    "    return (optimal,numeric)"
   ]
  },
  {
   "cell_type": "code",
   "execution_count": 506,
   "metadata": {
    "scrolled": true
   },
   "outputs": [],
   "source": [
    "simplified.LOG = False\n",
    "firstOrderCondition.LOG = False\n",
    "(asymmetricSymbolic,asymmetricNumeric) = calculateMarketEquilibrium(approxCostPerDay,asymmetricLifetime,wSolutionIndex=0)"
   ]
  },
  {
   "cell_type": "code",
   "execution_count": 507,
   "metadata": {
    "scrolled": false
   },
   "outputs": [
    {
     "data": {
      "text/plain": [
       "'C'"
      ]
     },
     "metadata": {},
     "output_type": "display_data"
    },
    {
     "data": {
      "image/png": "[encoded data removed]",
      "text/latex": [
       "$$2.2 p$$"
      ],
      "text/plain": [
       "2.2⋅p"
      ]
     },
     "metadata": {},
     "output_type": "display_data"
    },
    {
     "data": {
      "text/plain": [
       "'CPD'"
      ]
     },
     "metadata": {},
     "output_type": "display_data"
    },
    {
     "data": {
      "image/png": "[encoded data removed]",
      "text/latex": [
       "$$0.0219588656542618 \\sqrt{6} \\sqrt{b} \\sqrt{p}$$"
      ],
      "text/plain": [
       "0.0219588656542618⋅√6⋅√b⋅√p"
      ]
     },
     "metadata": {},
     "output_type": "display_data"
    },
    {
     "data": {
      "text/plain": [
       "'RPD'"
      ]
     },
     "metadata": {},
     "output_type": "display_data"
    },
    {
     "data": {
      "image/png": "[encoded data removed]",
      "text/latex": [
       "$$\\frac{0.0109794328271309 \\sqrt{6}}{\\sqrt{p}} \\sqrt{b}$$"
      ],
      "text/plain": [
       "0.0109794328271309⋅√6⋅√b\n",
       "────────────────────────\n",
       "           √p           "
      ]
     },
     "metadata": {},
     "output_type": "display_data"
    },
    {
     "data": {
      "text/plain": [
       "'T'"
      ]
     },
     "metadata": {},
     "output_type": "display_data"
    },
    {
     "data": {
      "image/png": "[encoded data removed]",
      "text/latex": [
       "$$\\frac{16.6978874245949 \\sqrt{6}}{\\sqrt{b}} \\sqrt{p}$$"
      ],
      "text/plain": [
       "16.6978874245949⋅√6⋅√p\n",
       "──────────────────────\n",
       "          √b          "
      ]
     },
     "metadata": {},
     "output_type": "display_data"
    },
    {
     "data": {
      "text/plain": [
       "'V'"
      ]
     },
     "metadata": {},
     "output_type": "display_data"
    },
    {
     "data": {
      "image/png": "[encoded data removed]",
      "text/latex": [
       "$$1.66978874245949 \\sqrt{6} \\sqrt{b} \\sqrt{p}$$"
      ],
      "text/plain": [
       "1.66978874245949⋅√6⋅√b⋅√p"
      ]
     },
     "metadata": {},
     "output_type": "display_data"
    },
    {
     "data": {
      "text/plain": [
       "'VCR1'"
      ]
     },
     "metadata": {},
     "output_type": "display_data"
    },
    {
     "data": {
      "image/png": "[encoded data removed]",
      "text/latex": [
       "$$1$$"
      ],
      "text/plain": [
       "1"
      ]
     },
     "metadata": {},
     "output_type": "display_data"
    },
    {
     "data": {
      "text/plain": [
       "'VCR2'"
      ]
     },
     "metadata": {},
     "output_type": "display_data"
    },
    {
     "data": {
      "image/png": "[encoded data removed]",
      "text/latex": [
       "$$\\frac{0.758994882936132 \\sqrt{6}}{\\sqrt{p}} \\sqrt{b}$$"
      ],
      "text/plain": [
       "0.758994882936132⋅√6⋅√b\n",
       "───────────────────────\n",
       "           √p          "
      ]
     },
     "metadata": {},
     "output_type": "display_data"
    },
    {
     "data": {
      "text/plain": [
       "'VCR3'"
      ]
     },
     "metadata": {},
     "output_type": "display_data"
    },
    {
     "data": {
      "image/png": "[encoded data removed]",
      "text/latex": [
       "$$\\frac{0.01 b}{p}$$"
      ],
      "text/plain": [
       "0.01⋅b\n",
       "──────\n",
       "  p   "
      ]
     },
     "metadata": {},
     "output_type": "display_data"
    },
    {
     "data": {
      "text/plain": [
       "'b12'"
      ]
     },
     "metadata": {},
     "output_type": "display_data"
    },
    {
     "data": {
      "image/png": "[encoded data removed]",
      "text/latex": [
       "$$0.289315068493151 p$$"
      ],
      "text/plain": [
       "0.289315068493151⋅p"
      ]
     },
     "metadata": {},
     "output_type": "display_data"
    },
    {
     "data": {
      "text/plain": [
       "'b13'"
      ]
     },
     "metadata": {},
     "output_type": "display_data"
    },
    {
     "data": {
      "image/png": "[encoded data removed]",
      "text/latex": [
       "$$100.0 p$$"
      ],
      "text/plain": [
       "100.0⋅p"
      ]
     },
     "metadata": {},
     "output_type": "display_data"
    },
    {
     "data": {
      "text/plain": [
       "'b23'"
      ]
     },
     "metadata": {},
     "output_type": "display_data"
    },
    {
     "data": {
      "image/png": "[encoded data removed]",
      "text/latex": [
       "$$34564.3939393939 p$$"
      ],
      "text/plain": [
       "34564.3939393939⋅p"
      ]
     },
     "metadata": {},
     "output_type": "display_data"
    },
    {
     "data": {
      "text/plain": [
       "'p12'"
      ]
     },
     "metadata": {},
     "output_type": "display_data"
    },
    {
     "data": {
      "image/png": "[encoded data removed]",
      "text/latex": [
       "$$3.45643939393939$$"
      ],
      "text/plain": [
       "3.45643939393939"
      ]
     },
     "metadata": {},
     "output_type": "display_data"
    },
    {
     "data": {
      "text/plain": [
       "'p13'"
      ]
     },
     "metadata": {},
     "output_type": "display_data"
    },
    {
     "data": {
      "image/png": "[encoded data removed]",
      "text/latex": [
       "$$0.01$$"
      ],
      "text/plain": [
       "0.0100000000000000"
      ]
     },
     "metadata": {},
     "output_type": "display_data"
    },
    {
     "data": {
      "text/plain": [
       "'p23'"
      ]
     },
     "metadata": {},
     "output_type": "display_data"
    },
    {
     "data": {
      "image/png": "[encoded data removed]",
      "text/latex": [
       "$$2.89315068493151 \\cdot 10^{-5}$$"
      ],
      "text/plain": [
       "2.89315068493151e-5"
      ]
     },
     "metadata": {},
     "output_type": "display_data"
    },
    {
     "data": {
      "text/plain": [
       "'w'"
      ]
     },
     "metadata": {},
     "output_type": "display_data"
    },
    {
     "data": {
      "image/png": "[encoded data removed]",
      "text/latex": [
       "$$\\frac{100.187324547569 \\sqrt{6}}{\\sqrt{b}} \\sqrt{p}$$"
      ],
      "text/plain": [
       "100.187324547569⋅√6⋅√p\n",
       "──────────────────────\n",
       "          √b          "
      ]
     },
     "metadata": {},
     "output_type": "display_data"
    }
   ],
   "source": [
    "#asymmetricSymbolic.display()\n",
    "asymmetricNumeric.display()"
   ]
  },
  {
   "cell_type": "code",
   "execution_count": 518,
   "metadata": {},
   "outputs": [],
   "source": [
    "simplified.LOG = False\n",
    "firstOrderCondition.LOG = False\n",
    "(symmetricSymbolic,symmetricNumeric) = calculateMarketEquilibrium(approxCostPerDay,symmetricLifetime,wSolutionIndex=0)"
   ]
  },
  {
   "cell_type": "code",
   "execution_count": 519,
   "metadata": {},
   "outputs": [
    {
     "data": {
      "text/plain": [
       "'C'"
      ]
     },
     "metadata": {},
     "output_type": "display_data"
    },
    {
     "data": {
      "image/png": "[encoded data removed]",
      "text/latex": [
       "$$3.3 p$$"
      ],
      "text/plain": [
       "3.3⋅p"
      ]
     },
     "metadata": {},
     "output_type": "display_data"
    },
    {
     "data": {
      "text/plain": [
       "'CPD'"
      ]
     },
     "metadata": {},
     "output_type": "display_data"
    },
    {
     "data": {
      "image/png": "[encoded data removed]",
      "text/latex": [
       "$$0.0070919157504193 \\sqrt[3]{10} b^{\\frac{2}{3}} \\sqrt[3]{p}$$"
      ],
      "text/plain": [
       "                   3 ____  2/3 3 ___\n",
       "0.0070919157504193⋅╲╱ 10 ⋅b   ⋅╲╱ p "
      ]
     },
     "metadata": {},
     "output_type": "display_data"
    },
    {
     "data": {
      "text/plain": [
       "'RPD'"
      ]
     },
     "metadata": {},
     "output_type": "display_data"
    },
    {
     "data": {
      "image/png": "[encoded data removed]",
      "text/latex": [
       "$$\\frac{0.00236397191680643 \\sqrt[3]{10}}{p^{\\frac{2}{3}}} b^{\\frac{2}{3}}$$"
      ],
      "text/plain": [
       "                    3 ____  2/3\n",
       "0.00236397191680643⋅╲╱ 10 ⋅b   \n",
       "───────────────────────────────\n",
       "               2/3             \n",
       "              p                "
      ]
     },
     "metadata": {},
     "output_type": "display_data"
    },
    {
     "data": {
      "text/plain": [
       "'T'"
      ]
     },
     "metadata": {},
     "output_type": "display_data"
    },
    {
     "data": {
      "image/png": "[encoded data removed]",
      "text/latex": [
       "$$\\frac{46.5318556527535 p^{\\frac{2}{3}}}{b^{\\frac{2}{3}}} 10^{\\frac{2}{3}}$$"
      ],
      "text/plain": [
       "                   2/3  2/3\n",
       "46.5318556527535⋅10   ⋅p   \n",
       "───────────────────────────\n",
       "             2/3           \n",
       "            b              "
      ]
     },
     "metadata": {},
     "output_type": "display_data"
    },
    {
     "data": {
      "text/plain": [
       "'V'"
      ]
     },
     "metadata": {},
     "output_type": "display_data"
    },
    {
     "data": {
      "image/png": "[encoded data removed]",
      "text/latex": [
       "$$4.65318556527535 \\cdot 10^{\\frac{2}{3}} \\sqrt[3]{b} p^{\\frac{2}{3}}$$"
      ],
      "text/plain": [
       "                   2/3 3 ___  2/3\n",
       "4.65318556527535⋅10   ⋅╲╱ b ⋅p   "
      ]
     },
     "metadata": {},
     "output_type": "display_data"
    },
    {
     "data": {
      "text/plain": [
       "'VCR1'"
      ]
     },
     "metadata": {},
     "output_type": "display_data"
    },
    {
     "data": {
      "image/png": "[encoded data removed]",
      "text/latex": [
       "$$1$$"
      ],
      "text/plain": [
       "1"
      ]
     },
     "metadata": {},
     "output_type": "display_data"
    },
    {
     "data": {
      "text/plain": [
       "'VCR2'"
      ]
     },
     "metadata": {},
     "output_type": "display_data"
    },
    {
     "data": {
      "image/png": "[encoded data removed]",
      "text/latex": [
       "$$\\frac{1.41005623190162 \\sqrt[3]{b}}{\\sqrt[3]{p}} 10^{\\frac{2}{3}}$$"
      ],
      "text/plain": [
       "                   2/3 3 ___\n",
       "1.41005623190162⋅10   ⋅╲╱ b \n",
       "────────────────────────────\n",
       "           3 ___            \n",
       "           ╲╱ p             "
      ]
     },
     "metadata": {},
     "output_type": "display_data"
    },
    {
     "data": {
      "text/plain": [
       "'VCR3'"
      ]
     },
     "metadata": {},
     "output_type": "display_data"
    },
    {
     "data": {
      "image/png": "[encoded data removed]",
      "text/latex": [
       "$$\\frac{0.01 b}{p}$$"
      ],
      "text/plain": [
       "0.01⋅b\n",
       "──────\n",
       "  p   "
      ]
     },
     "metadata": {},
     "output_type": "display_data"
    },
    {
     "data": {
      "text/plain": [
       "'b12'"
      ]
     },
     "metadata": {},
     "output_type": "display_data"
    },
    {
     "data": {
      "image/png": "[encoded data removed]",
      "text/latex": [
       "$$0.00356689810471008 p$$"
      ],
      "text/plain": [
       "0.00356689810471008⋅p"
      ]
     },
     "metadata": {},
     "output_type": "display_data"
    },
    {
     "data": {
      "text/plain": [
       "'b13'"
      ]
     },
     "metadata": {},
     "output_type": "display_data"
    },
    {
     "data": {
      "image/png": "[encoded data removed]",
      "text/latex": [
       "$$100.0 p$$"
      ],
      "text/plain": [
       "100.0⋅p"
      ]
     },
     "metadata": {},
     "output_type": "display_data"
    },
    {
     "data": {
      "text/plain": [
       "'b23'"
      ]
     },
     "metadata": {},
     "output_type": "display_data"
    },
    {
     "data": {
      "image/png": "[encoded data removed]",
      "text/latex": [
       "$$16743.8239279634 p$$"
      ],
      "text/plain": [
       "16743.8239279634⋅p"
      ]
     },
     "metadata": {},
     "output_type": "display_data"
    },
    {
     "data": {
      "text/plain": [
       "'p12'"
      ]
     },
     "metadata": {},
     "output_type": "display_data"
    },
    {
     "data": {
      "image/png": "[encoded data removed]",
      "text/latex": [
       "$$280.35563973064$$"
      ],
      "text/plain": [
       "280.355639730640"
      ]
     },
     "metadata": {},
     "output_type": "display_data"
    },
    {
     "data": {
      "text/plain": [
       "'p13'"
      ]
     },
     "metadata": {},
     "output_type": "display_data"
    },
    {
     "data": {
      "image/png": "[encoded data removed]",
      "text/latex": [
       "$$0.01$$"
      ],
      "text/plain": [
       "0.0100000000000000"
      ]
     },
     "metadata": {},
     "output_type": "display_data"
    },
    {
     "data": {
      "text/plain": [
       "'p23'"
      ]
     },
     "metadata": {},
     "output_type": "display_data"
    },
    {
     "data": {
      "image/png": "[encoded data removed]",
      "text/latex": [
       "$$5.97235138342519 \\cdot 10^{-5}$$"
      ],
      "text/plain": [
       "5.97235138342519e-5"
      ]
     },
     "metadata": {},
     "output_type": "display_data"
    },
    {
     "data": {
      "text/plain": [
       "'w'"
      ]
     },
     "metadata": {},
     "output_type": "display_data"
    },
    {
     "data": {
      "image/png": "[encoded data removed]",
      "text/latex": [
       "$$\\frac{43.1424874817174 \\sqrt[3]{10}}{\\sqrt[3]{b}} \\sqrt[3]{p}$$"
      ],
      "text/plain": [
       "                 3 ____ 3 ___\n",
       "43.1424874817174⋅╲╱ 10 ⋅╲╱ p \n",
       "─────────────────────────────\n",
       "            3 ___            \n",
       "            ╲╱ b             "
      ]
     },
     "metadata": {},
     "output_type": "display_data"
    }
   ],
   "source": [
    "symmetricNumeric.display()"
   ]
  },
  {
   "cell_type": "markdown",
   "metadata": {},
   "source": [
    "# Demand curves"
   ]
  },
  {
   "cell_type": "code",
   "execution_count": 531,
   "metadata": {},
   "outputs": [
    {
     "data": {
      "text/plain": [
       "'demand without lightning'"
      ]
     },
     "metadata": {},
     "output_type": "display_data"
    },
    {
     "data": {
      "image/png": "[encoded data removed]",
      "text/latex": [
       "$$\\frac{L}{\\beta b_{\\max}} \\left(\\beta \\max\\left(b_{\\max}, \\frac{p}{\\beta}\\right) - p\\right)$$"
      ],
      "text/plain": [
       "L⋅(\\beta⋅Max(b_{\\max}, p/\\beta) - p)\n",
       "────────────────────────────────────\n",
       "           \\beta⋅b_{\\max}           "
      ]
     },
     "metadata": {},
     "output_type": "display_data"
    },
    {
     "data": {
      "text/plain": [
       "'demand with lightning'"
      ]
     },
     "metadata": {},
     "output_type": "display_data"
    },
    {
     "data": {
      "image/png": "[encoded data removed]",
      "text/latex": [
       "$$\\begin{cases} - \\frac{L^{3} p}{4 \\Delta a b_{\\max} r} + \\frac{L}{b_{\\max}} \\max\\left(b_{\\max}, \\frac{L^{2} p}{4 \\Delta a r}\\right) + \\int_{\\frac{4 \\Delta a p}{L^{2} \\beta^{2}} r}^{\\frac{L^{2} p}{4 \\Delta a r}} \\frac{\\sqrt{\\Delta} \\sqrt{a} \\sqrt{b} \\sqrt{r}}{b_{\\max} \\sqrt{p}}\\, db & \\text{for}\\: b < b_{\\max} \\\\- \\frac{L^{3} p}{4 \\Delta a b_{\\max} r} + \\frac{L}{b_{\\max}} \\max\\left(b_{\\max}, \\frac{L^{2} p}{4 \\Delta a r}\\right) + \\int_{\\frac{4 \\Delta a p}{L^{2} \\beta^{2}} r}^{\\frac{L^{2} p}{4 \\Delta a r}} 0\\, db & \\text{otherwise} \\end{cases}$$"
      ],
      "text/plain": [
       "⎧                                                                         2   \n",
       "⎪                                                                        L ⋅p \n",
       "⎪                                                                    ─────────\n",
       "⎪                                                                    4⋅\\Delta⋅\n",
       "⎪                                                                         ⌠   \n",
       "⎪            3                                                            ⎮   \n",
       "⎪           L ⋅p           L⋅Max(b_{\\max}, L**2*p/(4*\\Delta*a*r))         ⎮   \n",
       "⎪- ───────────────────── + ────────────────────────────────────── +       ⎮   \n",
       "⎪  4⋅\\Delta⋅a⋅b_{\\max}⋅r                  b_{\\max}                        ⎮   \n",
       "⎪                                                                         ⌡   \n",
       "⎪                                                                   4⋅\\Delta⋅a\n",
       "⎪                                                                   ──────────\n",
       "⎪                                                                      2      \n",
       "⎨                                                                     L ⋅\\beta\n",
       "⎪                                                                             \n",
       "⎪                                                                             \n",
       "⎪                                                                             \n",
       "⎪                                                                             \n",
       "⎪                     3                                                       \n",
       "⎪                    L ⋅p           L⋅Max(b_{\\max}, L**2*p/(4*\\Delta*a*r))    \n",
       "⎪         - ───────────────────── + ────────────────────────────────────── +  \n",
       "⎪           4⋅\\Delta⋅a⋅b_{\\max}⋅r                  b_{\\max}                   \n",
       "⎪                                                                            4\n",
       "⎪                                                                            ─\n",
       "⎪                                                                             \n",
       "⎪                                                                             \n",
       "⎩                                                                             \n",
       "\n",
       "                                             \n",
       "                                             \n",
       "───                                          \n",
       "a⋅r                                          \n",
       "                                             \n",
       "       ________                              \n",
       "     ╲╱ \\Delta ⋅√a⋅√b⋅√r                     \n",
       "     ─────────────────── db  for b < b_{\\max}\n",
       "         b_{\\max}⋅√p                         \n",
       "                                             \n",
       "⋅p⋅r                                         \n",
       "────                                         \n",
       "2                                            \n",
       "                                             \n",
       "                                             \n",
       "     2                                       \n",
       "    L ⋅p                                     \n",
       "────────────                                 \n",
       "4⋅\\Delta⋅a⋅r                                 \n",
       "     ⌠                                       \n",
       "     ⎮        0 db              otherwise    \n",
       "     ⌡                                       \n",
       "⋅\\Delta⋅a⋅p⋅r                                \n",
       "─────────────                                \n",
       "  2      2                                   \n",
       " L ⋅\\beta                                    \n",
       "                                             "
      ]
     },
     "metadata": {},
     "output_type": "display_data"
    },
    {
     "data": {
      "image/png": "[encoded data removed]",
      "text/latex": [
       "$$- 1000.0 p + 10.0 \\max\\left(1, 100.0 p\\right)$$"
      ],
      "text/plain": [
       "-1000.0⋅p + 10.0⋅Max(1, 100.0*p)"
      ]
     },
     "metadata": {},
     "output_type": "display_data"
    },
    {
     "data": {
      "image/png": "[encoded data removed]",
      "text/latex": [
       "$$\\begin{cases} - 345643.939393939 p + \\int_{0.289315068493151 p}^{34564.3939393939 p} \\frac{0.0109794328271309 \\sqrt{6}}{\\sqrt{p}} \\sqrt{b}\\, db + 10 \\max\\left(1, 34564.3939393939 p\\right) & \\text{for}\\: b < 1 \\\\- 345643.939393939 p + \\int_{0.289315068493151 p}^{34564.3939393939 p} 0\\, db + 10 \\max\\left(1, 34564.3939393939 p\\right) & \\text{otherwise} \\end{cases}$$"
      ],
      "text/plain": [
       "⎧                       34564.3939393939⋅p                                    \n",
       "⎪                               ⌠                                             \n",
       "⎪                               ⎮          0.0109794328271309⋅√6⋅√b           \n",
       "⎪-345643.939393939⋅p +          ⎮          ──────────────────────── db + 10⋅Ma\n",
       "⎪                               ⎮                     √p                      \n",
       "⎪                               ⌡                                             \n",
       "⎨                      0.289315068493151⋅p                                    \n",
       "⎪                                                                             \n",
       "⎪                                  34564.3939393939⋅p                         \n",
       "⎪                                          ⌠                                  \n",
       "⎪           -345643.939393939⋅p +          ⎮          0 db + 10⋅Max(1, 34564.3\n",
       "⎪                                          ⌡                                  \n",
       "⎩                                 0.289315068493151⋅p                         \n",
       "\n",
       "                                   \n",
       "                                   \n",
       "                                   \n",
       "x(1, 34564.3939393939*p)  for b < 1\n",
       "                                   \n",
       "                                   \n",
       "                                   \n",
       "                                   \n",
       "                                   \n",
       "                                   \n",
       "939393939*p)              otherwise\n",
       "                                   \n",
       "                                   "
      ]
     },
     "metadata": {},
     "output_type": "display_data"
    }
   ],
   "source": [
    "### Generic function for calculating demand - does not give plottable expressions:\n",
    "\n",
    "def calculateDemands(optimal, valuePDF):\n",
    "    optimal.demandWithoutLightning = simplified(\n",
    "        sympy.integrate(L * valuePDF,             (b, optimal.b13,np.inf)),\n",
    "        \"demand without lightning\"\n",
    "    )\n",
    "    optimal.demandWithLightning = simplified(\n",
    "        sympy.integrate(a / optimal.T * valuePDF, (b, optimal.b12,optimal.b23)) +\\\n",
    "        sympy.integrate(L * valuePDF,             (b, optimal.b23,np.inf)),\n",
    "        \"demand with lightning\"\n",
    "    )\n",
    "    return optimal\n",
    "\n",
    "simplified.LOG = True\n",
    "calculateDemands(asymmetricSymbolic, uniformPDF)\n",
    "asymmetricNumeric = asymmetricSymbolic.subs(params)\n",
    "display(asymmetricNumeric.demandWithoutLightning)\n",
    "display(asymmetricNumeric.demandWithLightning)"
   ]
  },
  {
   "cell_type": "markdown",
   "metadata": {},
   "source": [
    "# Plots"
   ]
  },
  {
   "cell_type": "code",
   "execution_count": 532,
   "metadata": {
    "collapsed": true
   },
   "outputs": [],
   "source": [
    "def plotSymbolic(xRange, yExpression, xVariable, style, label):\n",
    "    plt.plot(xRange, [yExpression.subs(xVariable,xValue) for xValue in xRange], style, label=label)\n",
    "    \n",
    "def plotDemandCurves(priceRange, demandWithoutLightning, demandAsymmetric, demandSymmetric):\n",
    "    plotSymbolic(priceRange, demandWithoutLightning, p, \"r-\",label=\"no lightning\")\n",
    "    plotSymbolic(priceRange, demandAsymmetric, p,  \"b.\",label=\"asymmetric\")\n",
    "    plotSymbolic(priceRange, demandSymmetric, p,  \"g--\",label=\"symmetric\")\n",
    "    plt.gca().set_ylim(-1,11)\n",
    "    plt.xlabel(\"blockchain fee $p$  [coins]\")\n",
    "    plt.ylabel(\"Demand of a single pair [records/day]\")\n",
    "    plt.legend()\n",
    "\n",
    "    \n",
    "def plotPriceCurves(nRange, priceWithoutLightning, priceAsymmetric, priceSymmetric):\n",
    "    plotSymbolic(nRange, priceWithoutLightning, n, \"r-\",label=\"no lightning\")\n",
    "    plotSymbolic(nRange, priceAsymmetric, n,  \"b.\",label=\"asymmetric\")\n",
    "    if priceSymmetric:\n",
    "        plotSymbolic(nRange, priceSymmetric, n,  \"g--\",label=\"symmetric\")\n",
    "    #plt.gca().set_ylim(-1,11)\n",
    "    plt.xlabel(\"Number of pairs\")\n",
    "    plt.ylabel(\"Market-equilibrium price [coins/record]\")\n",
    "    plt.legend()"
   ]
  },
  {
   "cell_type": "markdown",
   "metadata": {},
   "source": [
    "## Uniform distribution"
   ]
  },
  {
   "cell_type": "code",
   "execution_count": 530,
   "metadata": {},
   "outputs": [
    {
     "data": {
      "text/plain": [
       "'demand without lightning'"
      ]
     },
     "metadata": {},
     "output_type": "display_data"
    },
    {
     "data": {
      "image/png": "[encoded data removed]",
      "text/latex": [
       "$$\\begin{cases} L - \\frac{L p}{\\beta b_{\\max}} & \\text{for}\\: p < \\beta b_{\\max} \\\\0 & \\text{otherwise} \\end{cases}$$"
      ],
      "text/plain": [
       "⎧         L⋅p                              \n",
       "⎪L - ──────────────  for p < \\beta⋅b_{\\max}\n",
       "⎨    \\beta⋅b_{\\max}                        \n",
       "⎪                                          \n",
       "⎩        0                 otherwise       "
      ]
     },
     "metadata": {},
     "output_type": "display_data"
    },
    {
     "data": {
      "text/plain": [
       "'demand with lightning'"
      ]
     },
     "metadata": {},
     "output_type": "display_data"
    },
    {
     "data": {
      "image/png": "[encoded data removed]",
      "text/latex": [
       "$$\\begin{cases} - \\frac{L^{3} p}{6 \\Delta a b_{\\max} r} + L - \\frac{16 \\Delta^{2} a^{2} p r^{2}}{3 L^{3} \\beta^{3} b_{\\max}} & \\text{for}\\: p < \\frac{4 \\Delta}{L^{2}} a b_{\\max} r \\\\\\frac{2 \\sqrt{\\Delta} \\sqrt{a} \\sqrt{b_{\\max}}}{3 \\sqrt{p}} \\sqrt{r} - \\frac{16 \\Delta^{2} a^{2} p r^{2}}{3 L^{3} \\beta^{3} b_{\\max}} & \\text{for}\\: p < \\frac{L^{2} \\beta^{2} b_{\\max}}{4 \\Delta a r} \\\\0 & \\text{otherwise} \\end{cases}$$"
      ],
      "text/plain": [
       "⎧              3                           2  2    2                          \n",
       "⎪             L ⋅p                16⋅\\Delta ⋅a ⋅p⋅r              4⋅\\Delta⋅a⋅b_\n",
       "⎪  - ───────────────────── + L - ────────────────────    for p < ─────────────\n",
       "⎪    6⋅\\Delta⋅a⋅b_{\\max}⋅r          3      3                                2 \n",
       "⎪                                3⋅L ⋅\\beta ⋅b_{\\max}                      L  \n",
       "⎪                                                                             \n",
       "⎨    ________      __________                2  2    2             2      2   \n",
       "⎪2⋅╲╱ \\Delta ⋅√a⋅╲╱ b_{\\max} ⋅√r    16⋅\\Delta ⋅a ⋅p⋅r             L ⋅\\beta ⋅b_\n",
       "⎪─────────────────────────────── - ────────────────────   for p < ────────────\n",
       "⎪              3⋅√p                   3      3                       4⋅\\Delta⋅\n",
       "⎪                                  3⋅L ⋅\\beta ⋅b_{\\max}                       \n",
       "⎪                                                                             \n",
       "⎩                          0                                       otherwise  \n",
       "\n",
       "        \n",
       "{\\max}⋅r\n",
       "────────\n",
       "        \n",
       "        \n",
       "        \n",
       "        \n",
       "{\\max}  \n",
       "──────  \n",
       "a⋅r     \n",
       "        \n",
       "        \n",
       "        "
      ]
     },
     "metadata": {},
     "output_type": "display_data"
    },
    {
     "data": {
      "image/png": "[encoded data removed]",
      "text/latex": [
       "$$\\begin{cases} - 1000.0 p + 10 & \\text{for}\\: p < 0.01 \\\\0 & \\text{otherwise} \\end{cases}$$"
      ],
      "text/plain": [
       "⎧-1000.0⋅p + 10  for p < 0.01\n",
       "⎨                            \n",
       "⎩      0          otherwise  "
      ]
     },
     "metadata": {},
     "output_type": "display_data"
    },
    {
     "data": {
      "image/png": "[encoded data removed]",
      "text/latex": [
       "$$\\begin{cases} - 230429.2957194 p + 10 & \\text{for}\\: p < 2.89315068493151 \\cdot 10^{-5} \\\\- 0.00279010696190655 p + \\frac{0.00731962188475393 \\sqrt{6}}{\\sqrt{p}} & \\text{for}\\: p < 3.45643939393939 \\\\0 & \\text{otherwise} \\end{cases}$$"
      ],
      "text/plain": [
       "⎧            -230429.2957194⋅p + 10               for p < 2.89315068493151e-5\n",
       "⎪                                                                            \n",
       "⎪                         0.00731962188475393⋅√6                             \n",
       "⎨-0.00279010696190655⋅p + ──────────────────────   for p < 3.45643939393939  \n",
       "⎪                                   √p                                       \n",
       "⎪                                                                            \n",
       "⎩                       0                                  otherwise         "
      ]
     },
     "metadata": {},
     "output_type": "display_data"
    },
    {
     "data": {
      "text/plain": [
       "'demand without lightning'"
      ]
     },
     "metadata": {},
     "output_type": "display_data"
    },
    {
     "data": {
      "image/png": "[encoded data removed]",
      "text/latex": [
       "$$\\begin{cases} L - \\frac{L p}{\\beta b_{\\max}} & \\text{for}\\: p < \\beta b_{\\max} \\\\0 & \\text{otherwise} \\end{cases}$$"
      ],
      "text/plain": [
       "⎧         L⋅p                              \n",
       "⎪L - ──────────────  for p < \\beta⋅b_{\\max}\n",
       "⎨    \\beta⋅b_{\\max}                        \n",
       "⎪                                          \n",
       "⎩        0                 otherwise       "
      ]
     },
     "metadata": {},
     "output_type": "display_data"
    },
    {
     "data": {
      "text/plain": [
       "'demand with lightning'"
      ]
     },
     "metadata": {},
     "output_type": "display_data"
    },
    {
     "data": {
      "image/png": "[encoded data removed]",
      "text/latex": [
       "$$\\begin{cases} - \\frac{4 \\sqrt{3} L^{2} p}{45 \\sqrt{a} b_{\\max} r} + L - \\frac{729 a^{2} p r^{4}}{5 L^{3} \\beta^{5} b_{\\max}} & \\text{for}\\: p < \\frac{3 b_{\\max}}{L} \\sqrt{3} \\sqrt{a} r \\\\\\frac{3 \\sqrt[3]{L} \\sqrt[3]{a} b_{\\max}^{\\frac{2}{3}}}{5 p^{\\frac{2}{3}}} r^{\\frac{2}{3}} - \\frac{729 a^{2} p r^{4}}{5 L^{3} \\beta^{5} b_{\\max}} & \\text{for}\\: p < \\frac{L^{2} \\beta^{3} b_{\\max}}{27 a r^{2}} \\\\0 & \\text{otherwise} \\end{cases}$$"
      ],
      "text/plain": [
       "⎧               2                      2    4                                 \n",
       "⎪         4⋅√3⋅L ⋅p               729⋅a ⋅p⋅r                    3⋅√3⋅√a⋅b_{\\ma\n",
       "⎪    - ──────────────── + L - ────────────────────      for p < ──────────────\n",
       "⎪      45⋅√a⋅b_{\\max}⋅r          3      5                               L     \n",
       "⎪                             5⋅L ⋅\\beta ⋅b_{\\max}                            \n",
       "⎪                                                                             \n",
       "⎨  3 ___ 3 ___         2/3  2/3            2    4                2      3     \n",
       "⎪3⋅╲╱ L ⋅╲╱ a ⋅b_{\\max}   ⋅r          729⋅a ⋅p⋅r                L ⋅\\beta ⋅b_{\\\n",
       "⎪────────────────────────────── - ────────────────────  for p < ──────────────\n",
       "⎪               2/3                  3      5                              2  \n",
       "⎪            5⋅p                  5⋅L ⋅\\beta ⋅b_{\\max}               27⋅a⋅r   \n",
       "⎪                                                                             \n",
       "⎩                          0                                    otherwise     \n",
       "\n",
       "    \n",
       "x}⋅r\n",
       "────\n",
       "    \n",
       "    \n",
       "    \n",
       "    \n",
       "max}\n",
       "────\n",
       "    \n",
       "    \n",
       "    \n",
       "    "
      ]
     },
     "metadata": {},
     "output_type": "display_data"
    },
    {
     "data": {
      "image/png": "[encoded data removed]",
      "text/latex": [
       "$$\\begin{cases} - 1000.0 p + 10 & \\text{for}\\: p < 0.01 \\\\0 & \\text{otherwise} \\end{cases}$$"
      ],
      "text/plain": [
       "⎧-1000.0⋅p + 10  for p < 0.01\n",
       "⎨                            \n",
       "⎩      0          otherwise  "
      ]
     },
     "metadata": {},
     "output_type": "display_data"
    },
    {
     "data": {
      "image/png": "[encoded data removed]",
      "text/latex": [
       "$$\\begin{cases} - 77336.4100165869 \\sqrt{3} p - 2.54455241787687 \\cdot 10^{-7} p + 10 & \\text{for}\\: p < 3.44813867891557 \\cdot 10^{-5} \\sqrt{3} \\\\- 2.54455241787687 \\cdot 10^{-7} p + \\frac{0.00141838315008386 \\sqrt[3]{10}}{p^{\\frac{2}{3}}} & \\text{for}\\: p < 280.35563973064 \\\\0 & \\text{otherwise} \\end{cases}$$"
      ],
      "text/plain": [
       "⎧-77336.4100165869⋅√3⋅p - 2.54455241787687e-7⋅p + 10  for p < 3.44813867891557\n",
       "⎪                                                                             \n",
       "⎪                                             3 ____                          \n",
       "⎪                         0.00141838315008386⋅╲╱ 10                           \n",
       "⎨-2.54455241787687e-7⋅p + ──────────────────────────     for p < 280.355639730\n",
       "⎪                                     2/3                                     \n",
       "⎪                                    p                                        \n",
       "⎪                                                                             \n",
       "⎩                         0                                     otherwise     \n",
       "\n",
       "e-5⋅√3\n",
       "      \n",
       "      \n",
       "      \n",
       "64    \n",
       "      \n",
       "      \n",
       "      \n",
       "      "
      ]
     },
     "metadata": {},
     "output_type": "display_data"
    },
    {
     "data": {
      "image/png": "[encoded data removed]",
      "text/plain": [
       "<matplotlib.figure.Figure at 0x7f47a279f550>"
      ]
     },
     "metadata": {},
     "output_type": "display_data"
    },
    {
     "data": {
      "image/png": "[encoded data removed]",
      "text/plain": [
       "<matplotlib.figure.Figure at 0x7f47a23fc550>"
      ]
     },
     "metadata": {},
     "output_type": "display_data"
    }
   ],
   "source": [
    "def calculateDemandsUniformDistribution(optimal):\n",
    "    optimal.demandB13 = sympy.integrate(L / bmax,             (b, optimal.b13, bmax))\n",
    "    optimal.demandWithoutLightning = simplified(Piecewise(\n",
    "        (optimal.demandB13, p < optimal.p13),    # b13 < bmax\n",
    "        (0, True)),\n",
    "        \"demand without lightning\"\n",
    "    )\n",
    "    optimal.demandL1 = sympy.integrate(a / optimal.T / bmax, (b, optimal.b12, optimal.b23)) # b12<b23<bmax\n",
    "    optimal.demandL2 = sympy.integrate(a / optimal.T / bmax, (b, optimal.b12, bmax))        # b12<bmax<b23\n",
    "    optimal.demandB23  = sympy.integrate(L / bmax,         (b, optimal.b23, bmax))          # b23<bmax\n",
    "    optimal.demandWithLightning = simplified(Piecewise(\n",
    "        (optimal.demandL1+optimal.demandB23 , p < optimal.p23),   # b23 < bmax\n",
    "        (optimal.demandL2 , p < optimal.p12),   # b12 < bmax\n",
    "        (0, True)),\n",
    "        \"demand with lightning\"\n",
    "    )\n",
    "\n",
    "simplified.LOG = True\n",
    "\n",
    "calculateDemandsUniformDistribution(asymmetricSymbolic)\n",
    "asymmetricNumeric = asymmetricSymbolic.subs(params)\n",
    "display(asymmetricNumeric.demandWithoutLightning)\n",
    "display(asymmetricNumeric.demandWithLightning)\n",
    "\n",
    "calculateDemandsUniformDistribution(symmetricSymbolic)\n",
    "symmetricNumeric = symmetricSymbolic.subs(params)\n",
    "display(symmetricNumeric.demandWithoutLightning)\n",
    "display(symmetricNumeric.demandWithLightning)\n",
    "\n",
    "#plot:\n",
    "priceRange = np.linspace(0,1e-4,100)\n",
    "plotDemandCurves(priceRange, asymmetricNumeric.demandWithoutLightning, asymmetricNumeric.demandWithLightning, symmetricNumeric.demandWithLightning)\n",
    "plt.savefig('../graphs/demand-curves-small-price.pdf', format='pdf', dpi=1000)    \n",
    "plt.show()\n",
    "\n",
    "priceRange = np.linspace(0,0.015,100)\n",
    "plotDemandCurves(priceRange, asymmetricNumeric.demandWithoutLightning, asymmetricNumeric.demandWithLightning, symmetricNumeric.demandWithLightning)\n",
    "plt.gca().set_ylim(-0.1,1)\n",
    "plt.savefig('../graphs/demand-curves-large-price.pdf', format='pdf', dpi=1000)    \n",
    "plt.show()"
   ]
  },
  {
   "cell_type": "code",
   "execution_count": 500,
   "metadata": {},
   "outputs": [
    {
     "data": {
      "image/png": "[encoded data removed]",
      "text/plain": [
       "<matplotlib.figure.Figure at 0x7f47a22eeba8>"
      ]
     },
     "metadata": {},
     "output_type": "display_data"
    },
    {
     "data": {
      "image/png": "[encoded data removed]",
      "text/plain": [
       "<matplotlib.figure.Figure at 0x7f47a2cf0978>"
      ]
     },
     "metadata": {},
     "output_type": "display_data"
    }
   ],
   "source": [
    "simplified.LOG = True\n",
    "\n",
    "### Demand curves\n",
    "\n",
    "#asymmetric case:\n",
    "(b12,b13,b23) = (asymmetricNumeric.b12,asymmetricNumeric.b13,asymmetricNumeric.b23)\n",
    "(p12,p13,p23) = (asymmetricNumeric.p12,asymmetricNumeric.p13,asymmetricNumeric.p23)\n",
    "demand1 = (2/3 * sympy.sqrt(D*a*r/p/bmax**2)*(b23**(3/2) - b12**(3/2)) + L*(bmax-b23)).subs(params)\n",
    "demand2 = (2/3 * sympy.sqrt(D*a*r/p/bmax**2)*(bmax**(3/2) - b12**(3/2))).subs(params)\n",
    "asymmetricNumeric.demandWithLightning = Piecewise(\n",
    "    (demand1 , p < p23), \n",
    "    (demand2 , p < p12),\n",
    "    (0, True))\n",
    "\n",
    "#symmetric case:\n",
    "(b12s,b13s,b23s) = (symmetricNumeric.b12,symmetricNumeric.b13,symmetricNumeric.b23)\n",
    "(p12s,p13s,p23s) = (symmetricNumeric.p12,symmetricNumeric.p13,symmetricNumeric.p23)\n",
    "demand1s = (3/5 * (L*a*r**2/p**2/bmax**3)**(1/3)*(b23s**(5/3) - b12s**(5/3)) + L*(bmax-b23s)).subs(params)\n",
    "demand2s = (3/5 * (L*a*r**2/p**2/bmax**3)**(1/3)*(bmax**(5/3) - b12s**(5/3))).subs(params)\n",
    "symmetricNumeric.demandWithLightning = Piecewise(\n",
    "    (demand1s , p < p23s),\n",
    "    (demand2s , p < p12s),\n",
    "    (0, True))\n",
    "\n",
    "#plot:\n",
    "priceRange = np.linspace(0,1e-4,100)\n",
    "plotDemandCurves(priceRange, asymmetricNumeric.demandWithoutLightning, asymmetricNumeric.demandWithLightning, symmetricNumeric.demandWithLightning)\n",
    "plt.savefig('../graphs/demand-curves-small-price.pdf', format='pdf', dpi=1000)    \n",
    "plt.show()\n",
    "\n",
    "priceRange = np.linspace(0,0.015,100)\n",
    "plotDemandCurves(priceRange, asymmetricNumeric.demandWithoutLightning, asymmetricNumeric.demandWithLightning, symmetricNumeric.demandWithLightning)\n",
    "plt.gca().set_ylim(-0.1,1)\n",
    "plt.savefig('../graphs/demand-curves-large-price.pdf', format='pdf', dpi=1000)    \n",
    "plt.show()"
   ]
  },
  {
   "cell_type": "code",
   "execution_count": 496,
   "metadata": {},
   "outputs": [
    {
     "data": {
      "image/png": "[encoded data removed]",
      "text/latex": [
       "$$\\begin{cases} 0.01 - \\frac{288.0}{n} & \\text{for}\\: 10 n > 288000 \\\\0 & \\text{otherwise} \\end{cases}$$"
      ],
      "text/plain": [
       "⎧       288.0                   \n",
       "⎪0.01 - ─────  for 10⋅n > 288000\n",
       "⎨         n                     \n",
       "⎪                               \n",
       "⎩     0            otherwise    "
      ]
     },
     "metadata": {},
     "output_type": "display_data"
    },
    {
     "data": {
      "image/png": "[encoded data removed]",
      "text/latex": [
       "$$- \\frac{\\tau}{n} 4.33972597485057 \\cdot 10^{-6} + 4.33972597485057 \\cdot 10^{-5}$$"
      ],
      "text/plain": [
       "  4.33972597485057e-6⋅\\tau                      \n",
       "- ──────────────────────── + 4.33972597485057e-5\n",
       "             n                                  "
      ]
     },
     "metadata": {},
     "output_type": "display_data"
    },
    {
     "data": {
      "image/png": "[encoded data removed]",
      "text/latex": [
       "$$\\frac{\\left(119.469732839761 \\tau - \\left(3.21301996169789 n^{1.5} + \\left(1705193.53554948 \\tau^{3} + 10.3234972742691 n^{3}\\right)^{0.5}\\right)^{0.666666666666667}\\right)^{2}}{n^{1.0} \\left(3.21301996169789 n^{1.5} + \\left(1705193.53554948 \\tau^{3} + 10.3234972742691 n^{3}\\right)^{0.5}\\right)^{0.666666666666667}}$$"
      ],
      "text/plain": [
       "                                                                              \n",
       "      ⎛                                                                       \n",
       "      ⎜                        ⎛                                              \n",
       " -1.0 ⎜                        ⎜                  1.5   ⎛                     \n",
       "n    ⋅⎝119.469732839761⋅\\tau - ⎝3.21301996169789⋅n    + ⎝1705193.53554948⋅\\tau\n",
       "\n",
       "                                              2                               \n",
       "                            0.666666666666667⎞                                \n",
       "                        0.5⎞                 ⎟  ⎛                             \n",
       "3                     3⎞   ⎟                 ⎟  ⎜                  1.5   ⎛    \n",
       "  + 10.3234972742691⋅n ⎠   ⎠                 ⎠ ⋅⎝3.21301996169789⋅n    + ⎝1705\n",
       "\n",
       "                                                               \n",
       "                                             -0.666666666666667\n",
       "                                         0.5⎞                  \n",
       "                 3                     3⎞   ⎟                  \n",
       "193.53554948⋅\\tau  + 10.3234972742691⋅n ⎠   ⎠                  "
      ]
     },
     "metadata": {},
     "output_type": "display_data"
    },
    {
     "data": {
      "image/png": "[encoded data removed]",
      "text/latex": [
       "$$\\begin{cases} 0 & \\text{for}\\: 10.0 n < 288000 \\\\4.33972597485057 \\cdot 10^{-5} - \\frac{1.24984108075696}{n} & \\text{for}\\: 3.33333325261133 n < 288000 \\\\\\frac{\\left(\\left(3.21301996169789 n^{1.5} + \\left(10.3234972742691 n^{3} + 4.07334449124333 \\cdot 10^{22}\\right)^{0.5}\\right)^{0.666666666666667} - 34407283.0578512\\right)^{2}}{n^{1.0} \\left(3.21301996169789 n^{1.5} + \\left(10.3234972742691 n^{3} + 4.07334449124333 \\cdot 10^{22}\\right)^{0.5}\\right)^{0.666666666666667}} & \\text{otherwise} \\end{cases}$$"
      ],
      "text/plain": [
       "⎧                                                                             \n",
       "⎪                                                                             \n",
       "⎪                                                                             \n",
       "⎪                                                                             \n",
       "⎪                                                                             \n",
       "⎨                                                                             \n",
       "⎪                                                                             \n",
       "⎪                                                                             \n",
       "⎪      ⎛                                                                    0.\n",
       "⎪ -1.0 ⎜                  1.5   ⎛                  3                       ⎞  \n",
       "⎩n    ⋅⎝3.21301996169789⋅n    + ⎝10.3234972742691⋅n  + 4.07334449124333e+22⎠  \n",
       "\n",
       "                           0                                                  \n",
       "                                                                              \n",
       "                               1.24984108075696                               \n",
       "         4.33972597485057e-5 - ────────────────                               \n",
       "                                      n                                       \n",
       "                                                                              \n",
       "                                                                              \n",
       "  -0.666666666666667 ⎛                                                        \n",
       "5⎞                   ⎜⎛                                                       \n",
       " ⎟                   ⎜⎜                  1.5   ⎛                  3           \n",
       " ⎠                  ⋅⎝⎝3.21301996169789⋅n    + ⎝10.3234972742691⋅n  + 4.073344\n",
       "\n",
       "                                                               for 10.0⋅n < 28\n",
       "                                                                              \n",
       "                                                                              \n",
       "                                                         for 3.33333325261133⋅\n",
       "                                                                              \n",
       "                                                                              \n",
       "                                                      2                       \n",
       "                 0.666666666666667                   ⎞                        \n",
       "             0.5⎞                                    ⎟                        \n",
       "            ⎞   ⎟                                    ⎟                        \n",
       "49124333e+22⎠   ⎠                  - 34407283.0578512⎠              otherwise \n",
       "\n",
       "8000      \n",
       "          \n",
       "          \n",
       "n < 288000\n",
       "          \n",
       "          \n",
       "          \n",
       "          \n",
       "          \n",
       "          \n",
       "          "
      ]
     },
     "metadata": {},
     "output_type": "display_data"
    },
    {
     "data": {
      "image/png": "[encoded data removed]",
      "text/plain": [
       "<matplotlib.figure.Figure at 0x7f47a2a84a90>"
      ]
     },
     "metadata": {},
     "output_type": "display_data"
    }
   ],
   "source": [
    "### Price curves\n",
    "simplified.LOG = True\n",
    "\n",
    "max_demand = params[L]\n",
    "min_demand = asymmetricNumeric.demandWithLightning.subs(p,p13).evalf(); \n",
    "\n",
    "priceWithoutLightning = simplified(Piecewise(\n",
    "    (beta*bmax*(1-Supply/n/L) , n*L>Supply),\n",
    "    (0,True)).subs(params))\n",
    "\n",
    "\n",
    "price1 = simplified(solve(n*demand1-Supply, p)[0])\n",
    "price2 = simplified(solve(n*demand2-Supply, p)[0])\n",
    "\n",
    "max_demand1 = demand1.subs(p,0).evalf();\n",
    "min_demand1 = demand1.subs(p,p23).evalf(); \n",
    "max_demand2 = demand2.subs(p,p23).evalf(); \n",
    "min_demand2 = demand2.subs(p,p12).evalf();\n",
    "\n",
    "asymmetricNumeric.priceWithLightning = simplified(Piecewise(\n",
    "    (0, Supply > n*max_demand1),\n",
    "    (price1 , Supply > n*min_demand1), \n",
    "    (price2 , Supply > n*min_demand2),\n",
    "    (0, True)).subs(params))\n",
    "\n",
    "#price1s = simplified(solve(n*demand1s-Supply, p)[0])\n",
    "# price2s = simplified(solve(n*demand2s-Supply, p)[0])  # unsolvable\n",
    "\n",
    "max_demand1s = demand1s.subs(p,0).evalf();\n",
    "min_demand1s = demand1s.subs(p,p23s).evalf(); \n",
    "max_demand2s = demand2s.subs(p,p23s).evalf(); \n",
    "min_demand2s = demand2s.subs(p,p12s).evalf();\n",
    "\n",
    "symmetricNumeric.priceWithLightning = None\n",
    "#symmetricNumeric.priceWithLightning = simplified(Piecewise(\n",
    "#    (0, Supply > n*max_demand1s),\n",
    "#    (price1s , Supply > n*min_demand1s), \n",
    "#    price2s, Supply > n*min_demand2s),   # u\n",
    "#    (0, True)).subs(params))\n",
    "\n"
   ]
  },
  {
   "cell_type": "code",
   "execution_count": 499,
   "metadata": {},
   "outputs": [
    {
     "data": {
      "image/png": "[encoded data removed]",
      "text/plain": [
       "<matplotlib.figure.Figure at 0x7f47a2ce2b00>"
      ]
     },
     "metadata": {},
     "output_type": "display_data"
    }
   ],
   "source": [
    "nRange = np.linspace(0,3000000,100)\n",
    "plotPriceCurves(nRange, priceWithoutLightning, asymmetricNumeric.priceWithLightning, symmetricNumeric.priceWithLightning)\n",
    "plt.savefig('../graphs/price-curves.pdf', format='pdf', dpi=1000)"
   ]
  }
 ],
 "metadata": {
  "kernelspec": {
   "display_name": "Python 3",
   "language": "python",
   "name": "python3"
  },
  "language_info": {
   "codemirror_mode": {
    "name": "ipython",
    "version": 3
   },
   "file_extension": ".py",
   "mimetype": "text/x-python",
   "name": "python",
   "nbconvert_exporter": "python",
   "pygments_lexer": "ipython3",
   "version": "3.5.2"
  }
 },
 "nbformat": 4,
 "nbformat_minor": 2
}
