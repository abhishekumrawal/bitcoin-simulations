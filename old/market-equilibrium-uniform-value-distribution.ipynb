{
 "cells": [
  {
   "cell_type": "code",
   "execution_count": 142,
   "metadata": {},
   "outputs": [],
   "source": [
    "import numpy as np\n",
    "import sympy\n",
    "sympy.init_printing(use_unicode=True)\n",
    "from sympy import symbols,simplify,diff,latex,Piecewise\n",
    "from sympy.solvers import solve\n",
    "from IPython.display import display\n",
    "from typing import Callable\n",
    "\n",
    "%matplotlib inline\n",
    "import matplotlib.pyplot as plt\n",
    "\n",
    "def simplified(exp, title=None):\n",
    "    simp = simplify(exp)\n",
    "    if simplified.LOG:\n",
    "        if title: display(title,simp)\n",
    "        else: display(simp)\n",
    "    return simp\n",
    "simplified.LOG = False\n",
    "\n",
    "def firstOrderCondition(exp, var):\n",
    "    diffExp = simplified(diff(exp, var))\n",
    "    solutions = solve(diffExp, var)\n",
    "    if firstOrderCondition.LOG:\n",
    "        display(solutions)\n",
    "    return solutions\n",
    "firstOrderCondition.LOG = False\n",
    "  \n",
    "class Result(object):   # a class for holding results of calculations\n",
    "    def __repr__(self): return self.__dict__.__repr__()\n",
    "    def display(self):\n",
    "        for k,v in sorted(self.__dict__.items()):\n",
    "            display(k,v)"
   ]
  },
  {
   "cell_type": "code",
   "execution_count": 143,
   "metadata": {},
   "outputs": [
    {
     "data": {
      "image/png": "[encoded data removed]",
      "text/latex": [
       "$$\\Delta$$"
      ],
      "text/plain": [
       "\\Delta"
      ]
     },
     "execution_count": 143,
     "metadata": {},
     "output_type": "execute_result"
    }
   ],
   "source": [
    "a,p,r,b,vmax,bmin,bmax,beta = symbols('a p r b v_{\\max} b_{\\min} b_{\\max} \\\\beta', positive=True)\n",
    "w,T,D,L,n,Supply = symbols('w T \\\\Delta L n S', positive=True)\n",
    "D"
   ]
  },
  {
   "cell_type": "code",
   "execution_count": 166,
   "metadata": {},
   "outputs": [
    {
     "data": {
      "image/png": "[encoded data removed]",
      "text/latex": [
       "$$1$$"
      ],
      "text/plain": [
       "1"
      ]
     },
     "metadata": {},
     "output_type": "display_data"
    },
    {
     "data": {
      "image/png": "[encoded data removed]",
      "text/latex": [
       "$$1$$"
      ],
      "text/plain": [
       "1"
      ]
     },
     "metadata": {},
     "output_type": "display_data"
    }
   ],
   "source": [
    "def exactCostPerDay(T):\n",
    "    return (a*p + w*b*( (1+r)**T - 1 )) / T\n",
    "\n",
    "def approxCostPerDay(T):\n",
    "    return a*p/T + w*b*r\n",
    "\n",
    "def symmetricLifetime(w):\n",
    "    return w**2/4/L\n",
    "\n",
    "def asymmetricLifetime(w):\n",
    "    return w / D\n",
    "\n",
    "def uniformCDF(v):\n",
    "    return v / vmax\n",
    "\n",
    "def powerlawCDF(v):\n",
    "    return (1 - 1 / v)\n",
    "\n",
    "\n",
    "uniformPDF = Piecewise( (1 / bmax , b<bmax), (0, True) )\n",
    "powerlawPDF =  Piecewise( (0 , b<bmin), (bmin / b**2, True) )\n",
    "\n",
    "#uniformPDF(b)\n",
    "display(sympy.integrate(uniformPDF, (b, 0, np.inf)))  # should be 1\n",
    "display(sympy.integrate(powerlawPDF, (b, 0, np.inf))) # should be 1"
   ]
  },
  {
   "cell_type": "code",
   "execution_count": 126,
   "metadata": {},
   "outputs": [],
   "source": [
    "def calculateMarketEquilibrium(costPerDay:Callable,channelLifetime:Callable,valueCDF:Callable,wSolutionIndex:int):\n",
    "    T = simplified(channelLifetime(w), \"T\")\n",
    "    CPD = simplified(costPerDay(T), \"CPD\")\n",
    "    optimal = Result()\n",
    "    optimal.w = simplified(firstOrderCondition(CPD,w)[wSolutionIndex], \"Optimal channel funding (w)\")\n",
    "    optimal.T   = simplified(T.subs(w,optimal.w), \"optimal channel lifetime (T)\")\n",
    "    optimal.CPD = simplified(CPD.subs(w,optimal.w), \"Cost-per-day\") \n",
    "    optimal.RPD = simplified(a / optimal.T, \"Potential records per day\") \n",
    "    optimal.C   =   simplified(optimal.CPD*optimal.T, \"Cost between resets\") \n",
    "    optimal.V   =   simplified(optimal.T*L*beta*b, \"Value between resets\")\n",
    "    optimal.VCR1 = 1\n",
    "    optimal.VCR2 = simplified(optimal.V / optimal.C, \"Value/Cost Ratio of lightning\")\n",
    "    optimal.VCR3 = simplified(beta*b / p, \"Value/Cost Ratio of blockchain\")\n",
    "    optimal.b12  = simplified(solve(optimal.VCR1-optimal.VCR2,b)[0],\"b of indifference between nop and lightning\")\n",
    "    optimal.b13  = simplified(solve(optimal.VCR1-optimal.VCR3,b)[0],\"b of indifference between nop and blockchain\")\n",
    "    optimal.b23  = simplified(solve(optimal.VCR2-optimal.VCR3,b)[0],\"b of indifference between blockchain and lightning\")\n",
    "    optimal.DemandLightningCondition = simplified(optimal.T*L - optimal.C/p,\"demand lightning condition\")\n",
    "    optimal.thresholdPrice = simplified(solve(optimal.DemandLightningCondition, p)[0], \"p\")\n",
    "    optimal.DemandLightning = simplified(n*(1-valueCDF(2*a*p / optimal.T/L)) * (a / optimal.T),\"demand lightning\")\n",
    "    optimal.eqPriceLightning = simplified(solve(optimal.DemandLightning-Supply, p)[0], \"p\")\n",
    "    optimal.DemandBlockchain = simplified(n*(1-valueCDF(p))*L, \"demand blockchain\")\n",
    "    optimal.eqPriceBlockchain = simplified(solve(optimal.DemandBlockchain-Supply, p)[0], \"p\")\n",
    "    return optimal"
   ]
  },
  {
   "cell_type": "code",
   "execution_count": 127,
   "metadata": {},
   "outputs": [],
   "source": [
    "simplified.LOG = False\n",
    "firstOrderCondition.LOG = False\n",
    "asymmetricSolution = calculateMarketEquilibrium(approxCostPerDay,asymmetricLifetime,uniformCDF,wSolutionIndex=0)"
   ]
  },
  {
   "cell_type": "code",
   "execution_count": 128,
   "metadata": {},
   "outputs": [
    {
     "data": {
      "text/plain": [
       "'C'"
      ]
     },
     "metadata": {},
     "output_type": "display_data"
    },
    {
     "data": {
      "image/png": "[encoded data removed]",
      "text/latex": [
       "$$2 a p$$"
      ],
      "text/plain": [
       "2⋅a⋅p"
      ]
     },
     "metadata": {},
     "output_type": "display_data"
    },
    {
     "data": {
      "text/plain": [
       "'CPD'"
      ]
     },
     "metadata": {},
     "output_type": "display_data"
    },
    {
     "data": {
      "image/png": "[encoded data removed]",
      "text/latex": [
       "$$2 \\sqrt{\\Delta} \\sqrt{a} \\sqrt{b} \\sqrt{p} \\sqrt{r}$$"
      ],
      "text/plain": [
       "    ________            \n",
       "2⋅╲╱ \\Delta ⋅√a⋅√b⋅√p⋅√r"
      ]
     },
     "metadata": {},
     "output_type": "display_data"
    },
    {
     "data": {
      "text/plain": [
       "'DemandBlockchain'"
      ]
     },
     "metadata": {},
     "output_type": "display_data"
    },
    {
     "data": {
      "image/png": "[encoded data removed]",
      "text/latex": [
       "$$- \\frac{L n}{v_{\\max}} \\left(p - v_{\\max}\\right)$$"
      ],
      "text/plain": [
       "-L⋅n⋅(p - v_{\\max}) \n",
       "────────────────────\n",
       "      v_{\\max}      "
      ]
     },
     "metadata": {},
     "output_type": "display_data"
    },
    {
     "data": {
      "text/plain": [
       "'DemandLightning'"
      ]
     },
     "metadata": {},
     "output_type": "display_data"
    },
    {
     "data": {
      "image/png": "[encoded data removed]",
      "text/latex": [
       "$$\\frac{\\sqrt{\\Delta} n}{\\sqrt{p}} \\sqrt{a} \\sqrt{b} \\sqrt{r} - \\frac{2 \\Delta a b}{L v_{\\max}} n r$$"
      ],
      "text/plain": [
       "  ________                              \n",
       "╲╱ \\Delta ⋅√a⋅√b⋅n⋅√r   2⋅\\Delta⋅a⋅b⋅n⋅r\n",
       "───────────────────── - ────────────────\n",
       "          √p               L⋅v_{\\max}   "
      ]
     },
     "metadata": {},
     "output_type": "display_data"
    },
    {
     "data": {
      "text/plain": [
       "'DemandLightningCondition'"
      ]
     },
     "metadata": {},
     "output_type": "display_data"
    },
    {
     "data": {
      "image/png": "[encoded data removed]",
      "text/latex": [
       "$$\\frac{L \\sqrt{a} \\sqrt{p}}{\\sqrt{\\Delta} \\sqrt{b} \\sqrt{r}} - 2 a$$"
      ],
      "text/plain": [
       "    L⋅√a⋅√p           \n",
       "──────────────── - 2⋅a\n",
       "  ________            \n",
       "╲╱ \\Delta ⋅√b⋅√r      "
      ]
     },
     "metadata": {},
     "output_type": "display_data"
    },
    {
     "data": {
      "text/plain": [
       "'RPD'"
      ]
     },
     "metadata": {},
     "output_type": "display_data"
    },
    {
     "data": {
      "image/png": "[encoded data removed]",
      "text/latex": [
       "$$\\frac{\\sqrt{\\Delta} \\sqrt{a}}{\\sqrt{p}} \\sqrt{b} \\sqrt{r}$$"
      ],
      "text/plain": [
       "  ________         \n",
       "╲╱ \\Delta ⋅√a⋅√b⋅√r\n",
       "───────────────────\n",
       "         √p        "
      ]
     },
     "metadata": {},
     "output_type": "display_data"
    },
    {
     "data": {
      "text/plain": [
       "'T'"
      ]
     },
     "metadata": {},
     "output_type": "display_data"
    },
    {
     "data": {
      "image/png": "[encoded data removed]",
      "text/latex": [
       "$$\\frac{\\sqrt{a} \\sqrt{p}}{\\sqrt{\\Delta} \\sqrt{b} \\sqrt{r}}$$"
      ],
      "text/plain": [
       "     √a⋅√p      \n",
       "────────────────\n",
       "  ________      \n",
       "╲╱ \\Delta ⋅√b⋅√r"
      ]
     },
     "metadata": {},
     "output_type": "display_data"
    },
    {
     "data": {
      "text/plain": [
       "'V'"
      ]
     },
     "metadata": {},
     "output_type": "display_data"
    },
    {
     "data": {
      "image/png": "[encoded data removed]",
      "text/latex": [
       "$$\\frac{L \\beta \\sqrt{a} \\sqrt{b}}{\\sqrt{\\Delta} \\sqrt{r}} \\sqrt{p}$$"
      ],
      "text/plain": [
       "L⋅\\beta⋅√a⋅√b⋅√p\n",
       "────────────────\n",
       "   ________     \n",
       " ╲╱ \\Delta ⋅√r  "
      ]
     },
     "metadata": {},
     "output_type": "display_data"
    },
    {
     "data": {
      "text/plain": [
       "'VCR1'"
      ]
     },
     "metadata": {},
     "output_type": "display_data"
    },
    {
     "data": {
      "image/png": "[encoded data removed]",
      "text/latex": [
       "$$1$$"
      ],
      "text/plain": [
       "1"
      ]
     },
     "metadata": {},
     "output_type": "display_data"
    },
    {
     "data": {
      "text/plain": [
       "'VCR2'"
      ]
     },
     "metadata": {},
     "output_type": "display_data"
    },
    {
     "data": {
      "image/png": "[encoded data removed]",
      "text/latex": [
       "$$\\frac{L \\beta \\sqrt{b}}{2 \\sqrt{\\Delta} \\sqrt{a} \\sqrt{p} \\sqrt{r}}$$"
      ],
      "text/plain": [
       "      L⋅\\beta⋅√b     \n",
       "─────────────────────\n",
       "    ________         \n",
       "2⋅╲╱ \\Delta ⋅√a⋅√p⋅√r"
      ]
     },
     "metadata": {},
     "output_type": "display_data"
    },
    {
     "data": {
      "text/plain": [
       "'VCR3'"
      ]
     },
     "metadata": {},
     "output_type": "display_data"
    },
    {
     "data": {
      "image/png": "[encoded data removed]",
      "text/latex": [
       "$$\\frac{\\beta b}{p}$$"
      ],
      "text/plain": [
       "\\beta⋅b\n",
       "───────\n",
       "   p   "
      ]
     },
     "metadata": {},
     "output_type": "display_data"
    },
    {
     "data": {
      "text/plain": [
       "'b12'"
      ]
     },
     "metadata": {},
     "output_type": "display_data"
    },
    {
     "data": {
      "image/png": "[encoded data removed]",
      "text/latex": [
       "$$\\frac{4 \\Delta a p}{L^{2} \\beta^{2}} r$$"
      ],
      "text/plain": [
       "4⋅\\Delta⋅a⋅p⋅r\n",
       "──────────────\n",
       "   2      2   \n",
       "  L ⋅\\beta    "
      ]
     },
     "metadata": {},
     "output_type": "display_data"
    },
    {
     "data": {
      "text/plain": [
       "'b13'"
      ]
     },
     "metadata": {},
     "output_type": "display_data"
    },
    {
     "data": {
      "image/png": "[encoded data removed]",
      "text/latex": [
       "$$\\frac{p}{\\beta}$$"
      ],
      "text/plain": [
       "  p  \n",
       "─────\n",
       "\\beta"
      ]
     },
     "metadata": {},
     "output_type": "display_data"
    },
    {
     "data": {
      "text/plain": [
       "'b23'"
      ]
     },
     "metadata": {},
     "output_type": "display_data"
    },
    {
     "data": {
      "image/png": "[encoded data removed]",
      "text/latex": [
       "$$\\frac{L^{2} p}{4 \\Delta a r}$$"
      ],
      "text/plain": [
       "     2      \n",
       "    L ⋅p    \n",
       "────────────\n",
       "4⋅\\Delta⋅a⋅r"
      ]
     },
     "metadata": {},
     "output_type": "display_data"
    },
    {
     "data": {
      "text/plain": [
       "'eqPriceBlockchain'"
      ]
     },
     "metadata": {},
     "output_type": "display_data"
    },
    {
     "data": {
      "image/png": "[encoded data removed]",
      "text/latex": [
       "$$v_{\\max} - \\frac{S v_{\\max}}{L n}$$"
      ],
      "text/plain": [
       "           S⋅v_{\\max}\n",
       "v_{\\max} - ──────────\n",
       "              L⋅n    "
      ]
     },
     "metadata": {},
     "output_type": "display_data"
    },
    {
     "data": {
      "text/plain": [
       "'eqPriceLightning'"
      ]
     },
     "metadata": {},
     "output_type": "display_data"
    },
    {
     "data": {
      "image/png": "[encoded data removed]",
      "text/latex": [
       "$$\\frac{L^{2} \\Delta a b n^{2} r v_{\\max}^{2}}{\\left(L S v_{\\max} + 2 \\Delta a b n r\\right)^{2}}$$"
      ],
      "text/plain": [
       "    2             2           2   \n",
       "   L ⋅\\Delta⋅a⋅b⋅n ⋅r⋅v_{\\max}    \n",
       "──────────────────────────────────\n",
       "                                 2\n",
       "(L⋅S⋅v_{\\max} + 2⋅\\Delta⋅a⋅b⋅n⋅r) "
      ]
     },
     "metadata": {},
     "output_type": "display_data"
    },
    {
     "data": {
      "text/plain": [
       "'thresholdPrice'"
      ]
     },
     "metadata": {},
     "output_type": "display_data"
    },
    {
     "data": {
      "image/png": "[encoded data removed]",
      "text/latex": [
       "$$\\frac{4 \\Delta}{L^{2}} a b r$$"
      ],
      "text/plain": [
       "4⋅\\Delta⋅a⋅b⋅r\n",
       "──────────────\n",
       "       2      \n",
       "      L       "
      ]
     },
     "metadata": {},
     "output_type": "display_data"
    },
    {
     "data": {
      "text/plain": [
       "'w'"
      ]
     },
     "metadata": {},
     "output_type": "display_data"
    },
    {
     "data": {
      "image/png": "[encoded data removed]",
      "text/latex": [
       "$$\\frac{\\sqrt{\\Delta} \\sqrt{a} \\sqrt{p}}{\\sqrt{b} \\sqrt{r}}$$"
      ],
      "text/plain": [
       "  ________      \n",
       "╲╱ \\Delta ⋅√a⋅√p\n",
       "────────────────\n",
       "     √b⋅√r      "
      ]
     },
     "metadata": {},
     "output_type": "display_data"
    }
   ],
   "source": [
    "asymmetricSolution.display()"
   ]
  },
  {
   "cell_type": "code",
   "execution_count": 130,
   "metadata": {},
   "outputs": [
    {
     "data": {
      "image/png": "[encoded data removed]",
      "text/latex": [
       "$$\\left ( 0.0241095890410959 p, \\quad 100.0 p, \\quad 414772.727272727 p\\right )$$"
      ],
      "text/plain": [
       "(0.0241095890410959⋅p, 100.0⋅p, 414772.727272727⋅p)"
      ]
     },
     "execution_count": 130,
     "metadata": {},
     "output_type": "execute_result"
    }
   ],
   "source": [
    "params = {\n",
    "    L: 10,           # total transfers per day \n",
    "    D: 4,            # delta transfers per day \n",
    "    beta: 0.01,      # value as fraction of tx size\n",
    "    r: 0.5/100/365,  # interest rate per day\n",
    "    a: 1.1,          # records per reset tx\n",
    "}\n",
    "(asymmetricSolution.b12.subs(params),\n",
    "asymmetricSolution.b13.subs(params),\n",
    "asymmetricSolution.b23.subs(params))"
   ]
  },
  {
   "cell_type": "code",
   "execution_count": 135,
   "metadata": {},
   "outputs": [
    {
     "data": {
      "text/plain": [
       "<function sympy.integrals.integrals.integrate>"
      ]
     },
     "execution_count": 135,
     "metadata": {},
     "output_type": "execute_result"
    }
   ],
   "source": [
    "sympy.integrate(asymmetricSolution, )"
   ]
  },
  {
   "cell_type": "code",
   "execution_count": 123,
   "metadata": {},
   "outputs": [],
   "source": [
    "simplified.LOG = False\n",
    "firstOrderCondition.LOG = False\n",
    "symmetricSolution = calculateMarketEquilibrium(approxCostPerDay,symmetricLifetime,uniformCDF,wSolutionIndex=0)"
   ]
  },
  {
   "cell_type": "code",
   "execution_count": 124,
   "metadata": {},
   "outputs": [
    {
     "data": {
      "text/plain": [
       "'C'"
      ]
     },
     "metadata": {},
     "output_type": "display_data"
    },
    {
     "data": {
      "image/png": "[encoded data removed]",
      "text/latex": [
       "$$3 a p$$"
      ],
      "text/plain": [
       "3⋅a⋅p"
      ]
     },
     "metadata": {},
     "output_type": "display_data"
    },
    {
     "data": {
      "text/plain": [
       "'CPD'"
      ]
     },
     "metadata": {},
     "output_type": "display_data"
    },
    {
     "data": {
      "image/png": "[encoded data removed]",
      "text/latex": [
       "$$3 \\sqrt[3]{L} \\sqrt[3]{a} b^{\\frac{2}{3}} \\sqrt[3]{p} r^{\\frac{2}{3}}$$"
      ],
      "text/plain": [
       "  3 ___ 3 ___  2/3 3 ___  2/3\n",
       "3⋅╲╱ L ⋅╲╱ a ⋅b   ⋅╲╱ p ⋅r   "
      ]
     },
     "metadata": {},
     "output_type": "display_data"
    },
    {
     "data": {
      "text/plain": [
       "'DemandBlockchain'"
      ]
     },
     "metadata": {},
     "output_type": "display_data"
    },
    {
     "data": {
      "image/png": "[encoded data removed]",
      "text/latex": [
       "$$- \\frac{L n}{v_{\\max}} \\left(p - v_{\\max}\\right)$$"
      ],
      "text/plain": [
       "-L⋅n⋅(p - v_{\\max}) \n",
       "────────────────────\n",
       "      v_{\\max}      "
      ]
     },
     "metadata": {},
     "output_type": "display_data"
    },
    {
     "data": {
      "text/plain": [
       "'DemandLightning'"
      ]
     },
     "metadata": {},
     "output_type": "display_data"
    },
    {
     "data": {
      "image/png": "[encoded data removed]",
      "text/latex": [
       "$$\\frac{\\sqrt[3]{a} b^{\\frac{2}{3}} n r^{\\frac{2}{3}}}{\\sqrt[3]{L} p^{\\frac{2}{3}} v_{\\max}} \\left(L^{\\frac{2}{3}} v_{\\max} - 2 \\sqrt[3]{a} b^{\\frac{2}{3}} \\sqrt[3]{p} r^{\\frac{2}{3}}\\right)$$"
      ],
      "text/plain": [
       "3 ___  2/3    2/3 ⎛ 2/3              3 ___  2/3 3 ___  2/3⎞\n",
       "╲╱ a ⋅b   ⋅n⋅r   ⋅⎝L   ⋅v_{\\max} - 2⋅╲╱ a ⋅b   ⋅╲╱ p ⋅r   ⎠\n",
       "───────────────────────────────────────────────────────────\n",
       "                    3 ___  2/3                             \n",
       "                    ╲╱ L ⋅p   ⋅v_{\\max}                    "
      ]
     },
     "metadata": {},
     "output_type": "display_data"
    },
    {
     "data": {
      "text/plain": [
       "'DemandLightningCondition'"
      ]
     },
     "metadata": {},
     "output_type": "display_data"
    },
    {
     "data": {
      "image/png": "[encoded data removed]",
      "text/latex": [
       "$$\\frac{L^{\\frac{2}{3}} a^{\\frac{2}{3}} p^{\\frac{2}{3}}}{b^{\\frac{2}{3}} r^{\\frac{2}{3}}} - 3 a$$"
      ],
      "text/plain": [
       " 2/3  2/3  2/3      \n",
       "L   ⋅a   ⋅p         \n",
       "────────────── - 3⋅a\n",
       "   2/3  2/3         \n",
       "  b   ⋅r            "
      ]
     },
     "metadata": {},
     "output_type": "display_data"
    },
    {
     "data": {
      "text/plain": [
       "'T'"
      ]
     },
     "metadata": {},
     "output_type": "display_data"
    },
    {
     "data": {
      "image/png": "[encoded data removed]",
      "text/latex": [
       "$$\\frac{a^{\\frac{2}{3}} p^{\\frac{2}{3}}}{\\sqrt[3]{L} b^{\\frac{2}{3}} r^{\\frac{2}{3}}}$$"
      ],
      "text/plain": [
       "    2/3  2/3   \n",
       "   a   ⋅p      \n",
       "───────────────\n",
       "3 ___  2/3  2/3\n",
       "╲╱ L ⋅b   ⋅r   "
      ]
     },
     "metadata": {},
     "output_type": "display_data"
    },
    {
     "data": {
      "text/plain": [
       "'V'"
      ]
     },
     "metadata": {},
     "output_type": "display_data"
    },
    {
     "data": {
      "image/png": "[encoded data removed]",
      "text/latex": [
       "$$\\frac{L^{\\frac{2}{3}} \\beta}{r^{\\frac{2}{3}}} a^{\\frac{2}{3}} \\sqrt[3]{b} p^{\\frac{2}{3}}$$"
      ],
      "text/plain": [
       " 2/3        2/3 3 ___  2/3\n",
       "L   ⋅\\beta⋅a   ⋅╲╱ b ⋅p   \n",
       "──────────────────────────\n",
       "            2/3           \n",
       "           r              "
      ]
     },
     "metadata": {},
     "output_type": "display_data"
    },
    {
     "data": {
      "text/plain": [
       "'VCR1'"
      ]
     },
     "metadata": {},
     "output_type": "display_data"
    },
    {
     "data": {
      "image/png": "[encoded data removed]",
      "text/latex": [
       "$$1$$"
      ],
      "text/plain": [
       "1"
      ]
     },
     "metadata": {},
     "output_type": "display_data"
    },
    {
     "data": {
      "text/plain": [
       "'VCR2'"
      ]
     },
     "metadata": {},
     "output_type": "display_data"
    },
    {
     "data": {
      "image/png": "[encoded data removed]",
      "text/latex": [
       "$$\\frac{L^{\\frac{2}{3}} \\beta \\sqrt[3]{b}}{3 \\sqrt[3]{a} \\sqrt[3]{p} r^{\\frac{2}{3}}}$$"
      ],
      "text/plain": [
       "  2/3       3 ___ \n",
       " L   ⋅\\beta⋅╲╱ b  \n",
       "──────────────────\n",
       "  3 ___ 3 ___  2/3\n",
       "3⋅╲╱ a ⋅╲╱ p ⋅r   "
      ]
     },
     "metadata": {},
     "output_type": "display_data"
    },
    {
     "data": {
      "text/plain": [
       "'VCR3'"
      ]
     },
     "metadata": {},
     "output_type": "display_data"
    },
    {
     "data": {
      "image/png": "[encoded data removed]",
      "text/latex": [
       "$$\\frac{\\beta b}{p}$$"
      ],
      "text/plain": [
       "\\beta⋅b\n",
       "───────\n",
       "   p   "
      ]
     },
     "metadata": {},
     "output_type": "display_data"
    },
    {
     "data": {
      "text/plain": [
       "'b12'"
      ]
     },
     "metadata": {},
     "output_type": "display_data"
    },
    {
     "data": {
      "image/png": "[encoded data removed]",
      "text/latex": [
       "$$\\frac{27 a p r^{2}}{L^{2} \\beta^{3}}$$"
      ],
      "text/plain": [
       "        2\n",
       "27⋅a⋅p⋅r \n",
       "─────────\n",
       " 2      3\n",
       "L ⋅\\beta "
      ]
     },
     "metadata": {},
     "output_type": "display_data"
    },
    {
     "data": {
      "text/plain": [
       "'b13'"
      ]
     },
     "metadata": {},
     "output_type": "display_data"
    },
    {
     "data": {
      "image/png": "[encoded data removed]",
      "text/latex": [
       "$$\\frac{p}{\\beta}$$"
      ],
      "text/plain": [
       "  p  \n",
       "─────\n",
       "\\beta"
      ]
     },
     "metadata": {},
     "output_type": "display_data"
    },
    {
     "data": {
      "text/plain": [
       "'b23'"
      ]
     },
     "metadata": {},
     "output_type": "display_data"
    },
    {
     "data": {
      "image/png": "[encoded data removed]",
      "text/latex": [
       "$$\\frac{\\sqrt{3} L p}{9 \\sqrt{a} r}$$"
      ],
      "text/plain": [
       "√3⋅L⋅p\n",
       "──────\n",
       "9⋅√a⋅r"
      ]
     },
     "metadata": {},
     "output_type": "display_data"
    },
    {
     "data": {
      "text/plain": [
       "'eqPriceBlockchain'"
      ]
     },
     "metadata": {},
     "output_type": "display_data"
    },
    {
     "data": {
      "image/png": "[encoded data removed]",
      "text/latex": [
       "$$v_{\\max} - \\frac{S v_{\\max}}{L n}$$"
      ],
      "text/plain": [
       "           S⋅v_{\\max}\n",
       "v_{\\max} - ──────────\n",
       "              L⋅n    "
      ]
     },
     "metadata": {},
     "output_type": "display_data"
    },
    {
     "data": {
      "text/plain": [
       "'eqPriceLightning'"
      ]
     },
     "metadata": {},
     "output_type": "display_data"
    },
    {
     "data": {
      "image/png": "[encoded data removed]",
      "text/latex": [
       "$$\\frac{b r}{L S^{3} v_{\\max}^{3}} \\left(\\sqrt[6]{a} \\sqrt{n} \\sqrt{L S v_{\\max}^{2} + a b^{2} n r^{2}} - a^{\\frac{2}{3}} b n r\\right)^{3}$$"
      ],
      "text/plain": [
       "                                                          3\n",
       "    ⎛            ___________________________             ⎞ \n",
       "    ⎜6 ___      ╱             2      2    2     2/3      ⎟ \n",
       "b⋅r⋅⎝╲╱ a ⋅√n⋅╲╱  L⋅S⋅v_{\\max}  + a⋅b ⋅n⋅r   - a   ⋅b⋅n⋅r⎠ \n",
       "───────────────────────────────────────────────────────────\n",
       "                          3         3                      \n",
       "                       L⋅S ⋅v_{\\max}                       "
      ]
     },
     "metadata": {},
     "output_type": "display_data"
    },
    {
     "data": {
      "text/plain": [
       "'thresholdPrice'"
      ]
     },
     "metadata": {},
     "output_type": "display_data"
    },
    {
     "data": {
      "image/png": "[encoded data removed]",
      "text/latex": [
       "$$\\frac{3 b}{L} \\sqrt{3} \\sqrt{a} r$$"
      ],
      "text/plain": [
       "3⋅√3⋅√a⋅b⋅r\n",
       "───────────\n",
       "     L     "
      ]
     },
     "metadata": {},
     "output_type": "display_data"
    },
    {
     "data": {
      "text/plain": [
       "'w'"
      ]
     },
     "metadata": {},
     "output_type": "display_data"
    },
    {
     "data": {
      "image/png": "[encoded data removed]",
      "text/latex": [
       "$$\\frac{2 \\sqrt[3]{L} \\sqrt[3]{a} \\sqrt[3]{p}}{\\sqrt[3]{b} \\sqrt[3]{r}}$$"
      ],
      "text/plain": [
       "  3 ___ 3 ___ 3 ___\n",
       "2⋅╲╱ L ⋅╲╱ a ⋅╲╱ p \n",
       "───────────────────\n",
       "    3 ___ 3 ___    \n",
       "    ╲╱ b ⋅╲╱ r     "
      ]
     },
     "metadata": {},
     "output_type": "display_data"
    }
   ],
   "source": [
    "symmetricSolution.display()"
   ]
  },
  {
   "cell_type": "code",
   "execution_count": 125,
   "metadata": {},
   "outputs": [
    {
     "data": {
      "image/png": "[encoded data removed]",
      "text/latex": [
       "$$\\left ( 5.5732782886095 \\cdot 10^{-5} p, \\quad 100.0 p, \\quad 77336.4100165869 \\sqrt{3} p\\right )$$"
      ],
      "text/plain": [
       "(5.5732782886095e-5⋅p, 100.0⋅p, 77336.4100165869⋅√3⋅p)"
      ]
     },
     "execution_count": 125,
     "metadata": {},
     "output_type": "execute_result"
    }
   ],
   "source": [
    "(symmetricSolution.b12.subs(params),\n",
    "symmetricSolution.b13.subs(params),\n",
    "symmetricSolution.b23.subs(params))"
   ]
  },
  {
   "cell_type": "code",
   "execution_count": null,
   "metadata": {
    "collapsed": true
   },
   "outputs": [],
   "source": []
  }
 ],
 "metadata": {
  "kernelspec": {
   "display_name": "Python 3",
   "language": "python",
   "name": "python3"
  },
  "language_info": {
   "codemirror_mode": {
    "name": "ipython",
    "version": 3
   },
   "file_extension": ".py",
   "mimetype": "text/x-python",
   "name": "python",
   "nbconvert_exporter": "python",
   "pygments_lexer": "ipython3",
   "version": "3.5.2"
  }
 },
 "nbformat": 4,
 "nbformat_minor": 2
}
