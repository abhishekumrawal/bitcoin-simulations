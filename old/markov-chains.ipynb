{
 "cells": [
  {
   "cell_type": "code",
   "execution_count": 1,
   "metadata": {
    "collapsed": true
   },
   "outputs": [],
   "source": [
    "import numpy as np\n",
    "import numpy.linalg as linalg\n",
    "from discreteMarkovChain import markovChain\n",
    "\n",
    "import sympy\n",
    "sympy.init_printing(use_unicode=True)"
   ]
  },
  {
   "cell_type": "code",
   "execution_count": 2,
   "metadata": {},
   "outputs": [
    {
     "name": "stdout",
     "output_type": "stream",
     "text": [
      "values [ 0.5  1.   0.7]\n",
      "vectors\n",
      " [[ -8.16496581e-01   3.33333333e-01  -8.45817455e-17]\n",
      " [  4.08248290e-01   6.66666667e-01  -7.07106781e-01]\n",
      " [  4.08248290e-01   6.66666667e-01   7.07106781e-01]]\n",
      "steady state probs [[ 0.2  0.4  0.4]]\n",
      "s*P [[ 0.2  0.4  0.4]]\n",
      "mc.pi [ 0.2  0.4  0.4]\n"
     ]
    }
   ],
   "source": [
    "P = np.matrix([\n",
    "    [0.6, 0.2, 0.2], \n",
    "    [0.1, 0.8, 0.1],\n",
    "    [0.1, 0.1, 0.8]])\n",
    "\n",
    "(values,vectors) = linalg.eig(np.transpose(P))\n",
    "print(\"values\",values)\n",
    "print(\"vectors\\n\",vectors)\n",
    "indexOf1 = np.where(np.abs(values-1)<0.0001)[0][0]\n",
    "s = vectors[:,indexOf1]\n",
    "s = np.transpose(s / sum(s))\n",
    "print(\"steady state probs\", s)\n",
    "print(\"s*P\", s*P)\n",
    "\n",
    "mc = markovChain(P)\n",
    "mc.computePi('linear') #We can also use 'power', 'krylov' or 'eigen'\n",
    "print(\"mc.pi\", mc.pi)"
   ]
  },
  {
   "cell_type": "code",
   "execution_count": 48,
   "metadata": {},
   "outputs": [
    {
     "name": "stdout",
     "output_type": "stream",
     "text": [
      "values [ 1.  -0.1]\n",
      "vectors\n",
      " [[ 0.76822128 -0.70710678]\n",
      " [ 0.6401844   0.70710678]]\n",
      "steady state probs [[ 0.54545455  0.45454545]]\n",
      "s*P [[ 0.54545455  0.45454545]]\n",
      "mc.pi [ 0.54545455  0.45454545]\n"
     ]
    }
   ],
   "source": [
    "P1 = np.matrix([\n",
    "    [0.5,0.5],\n",
    "    [0.6,0.4]])\n",
    "\n",
    "(values,vectors) = linalg.eig(np.transpose(P1))\n",
    "print(\"values\",values)\n",
    "print(\"vectors\\n\",vectors)\n",
    "indexOf1 = np.where(np.abs(values-1)<0.0001)[0][0]\n",
    "s = vectors[:,indexOf1]\n",
    "s = np.transpose(s / sum(s))\n",
    "print(\"steady state probs\", s)\n",
    "print(\"s*P\", s*P1)\n",
    "\n",
    "mc = markovChain(P1)\n",
    "mc.computePi('linear') #We can also use 'power', 'krylov' or 'eigen'\n",
    "print(\"mc.pi\", mc.pi)"
   ]
  },
  {
   "cell_type": "code",
   "execution_count": 99,
   "metadata": {
    "collapsed": true
   },
   "outputs": [],
   "source": [
    "def steadyStateSym(transitionMatrix):\n",
    "    \"\"\"\n",
    "    Given a transition matrix of a Markov chain, returns the steady-state vector\n",
    "    Uses sympy for symbolic computaiton.\n",
    "    \n",
    "    INPUT: transitionMatrix - a list of rows each of which sums up to 1.\n",
    "    OUTPUT steadyState - a sympy matrix; a row whose entires sum to 1.\n",
    "    \"\"\"\n",
    "    P = sympy.Matrix(transitionMatrix)\n",
    "    vects = P.T.eigenvects()\n",
    "    s = [vect[2] for vect in vects if vect[0]==1][0][0].T\n",
    "    s = sympy.simplify(s)\n",
    "    s = (s/sum(s))\n",
    "    s = sympy.simplify(s)\n",
    "    return s"
   ]
  },
  {
   "cell_type": "code",
   "execution_count": 100,
   "metadata": {},
   "outputs": [
    {
     "data": {
      "image/png": "[encoded data removed]",
      "text/latex": [
       "$$\\left[\\begin{matrix}\\frac{q^{2}}{q^{2} - q + 1} & - \\frac{q \\left(q - 1\\right)}{q^{2} - q + 1} & \\frac{q^{2} - 2 q + 1}{q^{2} - q + 1}\\end{matrix}\\right]$$"
      ],
      "text/plain": [
       "⎡     2                    2          ⎤\n",
       "⎢    q       -q⋅(q - 1)   q  - 2⋅q + 1⎥\n",
       "⎢──────────  ───────────  ────────────⎥\n",
       "⎢ 2            2            2         ⎥\n",
       "⎣q  - q + 1   q  - q + 1   q  - q + 1 ⎦"
      ]
     },
     "execution_count": 100,
     "metadata": {},
     "output_type": "execute_result"
    }
   ],
   "source": [
    "p,q = sympy.symbols('p q')\n",
    "s = steadyStateSym([\n",
    "    [q, 1-q, 0], \n",
    "    [q, 0, 1-q],\n",
    "    [0, q, 1-q]])\n",
    "s"
   ]
  },
  {
   "cell_type": "code",
   "execution_count": 3,
   "metadata": {},
   "outputs": [
    {
     "data": {
      "image/png": "[encoded data removed]",
      "text/latex": [
       "$$\\left[\\left[\\begin{matrix}0.2 & 0.4 & 0.4\\end{matrix}\\right]\\right]$$"
      ],
      "text/plain": [
       "[[0.2  0.4  0.4]]"
      ]
     },
     "execution_count": 3,
     "metadata": {},
     "output_type": "execute_result"
    }
   ],
   "source": [
    "sympy.simplify(s*P)"
   ]
  },
  {
   "cell_type": "code",
   "execution_count": 18,
   "metadata": {},
   "outputs": [
    {
     "data": {
      "text/plain": [
       "array([ 0.,  0.,  0.])"
      ]
     },
     "execution_count": 18,
     "metadata": {},
     "output_type": "execute_result"
    }
   ],
   "source": [
    "mat = np.zeros(3)\n",
    "mat"
   ]
  },
  {
   "cell_type": "code",
   "execution_count": 34,
   "metadata": {},
   "outputs": [
    {
     "data": {
      "image/png": "[encoded data removed]",
      "text/latex": [
       "$$0.0748989349792$$"
      ],
      "text/plain": [
       "0.0748989349792"
      ]
     },
     "execution_count": 34,
     "metadata": {},
     "output_type": "execute_result"
    }
   ],
   "source": [
    "def expectedPayment(w,p,q,A,B,kA,kB,kI,txCost,restartCost):\n",
    "    transition = np.zeros((w+1,w+1))  # Markov process transition matrix\n",
    "    payment = np.zeros(w+1)           # payment vector\n",
    "    for k in range(0, kA):   # vanishes if kA=0 (never restart)\n",
    "        transition[k,k] = 1-p-q\n",
    "        transition[k,k+B] = q\n",
    "        transition[k,kI-A] = p\n",
    "        payment[k] = p*restartCost     # channel initialization\n",
    "    for k in range(kA, A):  # vanishes if kA=A (never use blockchain)\n",
    "        transition[k,k] = 1-q\n",
    "        transition[k,k+B] = q\n",
    "        payment[k] = p*txCost     # w.p. p, use bitcoin tx to remain in place\n",
    "    for k in range(A,w-B+1):\n",
    "        transition[k,k] = 1-p-q\n",
    "        transition[k,k+B] = q\n",
    "        transition[k,k-A] = p\n",
    "    for k in range(w-B+1, kB+1): # vanishes if kB=w-B (never use blockchain)\n",
    "        transition[k,k] = 1-p\n",
    "        transition[k,k-A] = p\n",
    "        payment[k] = q*txCost     # w.p. q, use bitcoin tx to remain in place\n",
    "    for k in range(kB+1, w+1):  # disappears if kB=w (never restart)\n",
    "        transition[k,k] = 1-p-q\n",
    "        transition[k,kI+B] = q\n",
    "        transition[k,k-A] = p\n",
    "        payment[k] = q*restartCost     # channel initialization\n",
    "        \n",
    "    mc = markovChain(transition)\n",
    "    mc.computePi('eigen') # can use 'linear' 'power', 'krylov' or 'eigen'\n",
    "    steadyState = mc.pi\n",
    "    expectedPayment = np.dot(payment,steadyState)\n",
    "    return expectedPayment\n",
    "        \n",
    "ep = expectedPayment(w=100, p=.1, q=.9, A=10, B=1, kA=10, kB=99, kI=90, txCost=5, restartCost=10)\n",
    "ep"
   ]
  },
  {
   "cell_type": "code",
   "execution_count": 50,
   "metadata": {},
   "outputs": [
    {
     "name": "stdout",
     "output_type": "stream",
     "text": [
      "kA=0 kB=100 kI=10 ep=0.2029853321233756\n",
      "kA=0 kB=100 kI=50 ep=0.2029853321233756\n",
      "kA=0 kB=100 kI=99 ep=0.2029853321233756\n",
      "\n",
      "kA=0 kB=99 kI=10 ep=0.06707861060419912\n",
      "kA=0 kB=99 kI=50 ep=0.05863615996388098\n",
      "kA=0 kB=99 kI=99 ep=0.36479017950826154\n",
      "\n",
      "kA=10 kB=100 kI=10 ep=0.29475787425482014\n",
      "kA=10 kB=100 kI=50 ep=0.2373843531586099\n",
      "kA=10 kB=100 kI=99 ep=0.38592332458781176\n",
      "\n",
      "kA=10 kB=99 kI=10 ep=0.20828645157085246\n",
      "kA=10 kB=99 kI=50 ep=0.04065825264181202\n",
      "kA=10 kB=99 kI=99 ep=0.7584627330436977\n",
      "\n",
      "BEST: Alice restarts before 10, Bob restarts after 99, initialization at 50, payment 0.04065825264181202\n"
     ]
    }
   ],
   "source": [
    "def simulate(w,p,q,A,B,txCost,restartCost):\n",
    "    eps = []\n",
    "    for kA in [0,A]:\n",
    "        for kB in [w,w-B]:\n",
    "            for kI in [A, int(w/2), w-B]:\n",
    "                ep = expectedPayment(w, p, q, A, B, kA, kB, kI, txCost, restartCost)\n",
    "                print(\"kA={} kB={} kI={} ep={}\".format(kA,kB,kI,ep))\n",
    "                eps.append((kA,kB,kI,ep))\n",
    "            print()\n",
    "    i = np.argmin([ep[3] for ep in eps])\n",
    "    best = eps[i]\n",
    "    print(\"BEST: Alice uses blockchain in {}-{}, Bob restarts after {}, initialization at {}, payment {}\".format(best[0],best[1],best[2],best[3]))\n",
    "\n",
    "simulate(w=100, p=.1, q=.95, A=10, B=1, txCost=5, restartCost=10)"
   ]
  },
  {
   "cell_type": "code",
   "execution_count": 4,
   "metadata": {},
   "outputs": [
    {
     "data": {
      "text/plain": [
       "4845.0"
      ]
     },
     "execution_count": 4,
     "metadata": {},
     "output_type": "execute_result"
    }
   ],
   "source": [
    "from scipy.misc import comb\n",
    "comb(20,4)"
   ]
  },
  {
   "cell_type": "code",
   "execution_count": 12,
   "metadata": {},
   "outputs": [
    {
     "data": {
      "text/plain": [
       "0.45454545454545453"
      ]
     },
     "execution_count": 12,
     "metadata": {},
     "output_type": "execute_result"
    }
   ],
   "source": [
    "comb(6,2)*comb(6,2)/comb(12,4)"
   ]
  },
  {
   "cell_type": "code",
   "execution_count": null,
   "metadata": {
    "collapsed": true
   },
   "outputs": [],
   "source": []
  }
 ],
 "metadata": {
  "kernelspec": {
   "display_name": "Python 3",
   "language": "python",
   "name": "python3"
  },
  "language_info": {
   "codemirror_mode": {
    "name": "ipython",
    "version": 3
   },
   "file_extension": ".py",
   "mimetype": "text/x-python",
   "name": "python",
   "nbconvert_exporter": "python",
   "pygments_lexer": "ipython3",
   "version": "3.5.2"
  }
 },
 "nbformat": 4,
 "nbformat_minor": 2
}
