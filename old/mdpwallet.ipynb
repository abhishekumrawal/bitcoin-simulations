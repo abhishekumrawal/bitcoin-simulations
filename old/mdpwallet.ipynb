{
 "cells": [
  {
   "cell_type": "code",
   "execution_count": 1,
   "metadata": {},
   "outputs": [
    {
     "name": "stdout",
     "output_type": "stream",
     "text": [
      "MDP Wallet has 190 states\n",
      "MDP Wallet has 190 states\n"
     ]
    },
    {
     "data": {
      "text/html": [
       "<h1>The MDP Wallet</h1>"
      ],
      "text/plain": [
       "<IPython.core.display.HTML object>"
      ]
     },
     "metadata": {},
     "output_type": "display_data"
    }
   ],
   "source": [
    "import sys\n",
    "\n",
    "import mdpwallet\n",
    "del sys.modules[\"mdpwallet\"]\n",
    "import mdpwallet\n",
    "from mdpwallet import *\n",
    "\n",
    "from IPython.core.display import display, HTML\n",
    "display(HTML('<h1>The MDP Wallet</h1>'))"
   ]
  },
  {
   "cell_type": "code",
   "execution_count": 8,
   "metadata": {
    "scrolled": false
   },
   "outputs": [
    {
     "name": "stdout",
     "output_type": "stream",
     "text": [
      "MDP Wallet has 190 states\n",
      "transitions 10 x (190, 190) \n",
      "\n",
      "rewards 10 x (190, 190)\n"
     ]
    },
    {
     "data": {
      "text/html": [
       "<h2>Alice's policy for next send</h2>\n",
       "<p>Discounted cost = -7.17</p>\n",
       "<table border='1' padding='1'>\n",
       " <tr><th>&nbsp;Alice's balance &rarr;<br/>Channel capacity &darr;</th>\n",
       "  <td>0</td>\n",
       "  <td>1</td>\n",
       "  <td>2</td>\n",
       "  <td>3</td>\n",
       "  <td>4</td>\n",
       "  <td>5</td>\n",
       "  <td>6</td>\n",
       "  <td>7</td>\n",
       "  <td>8</td>\n",
       "  <td>9</td>\n",
       "  <td>10</td>\n",
       "  <td>11</td>\n",
       "  <td>12</td>\n",
       "  <td>13</td>\n",
       "  <td>14</td>\n",
       "  <td>15</td>\n",
       "  <td>16</td>\n",
       "  <td>17</td>\n",
       "  <td>18</td>\n",
       "  <td>19</td>\n",
       " </tr>\n",
       " <tr><th>0</th>\n",
       "  <td>reset 4</td>\n",
       " </tr>\n",
       " <tr><th>2</th>\n",
       "  <td>reset 4</td>\n",
       "  <td>reset 4</td>\n",
       "  <td>reset 4</td>\n",
       " </tr>\n",
       " <tr><th>4</th>\n",
       "  <td>blockchain</td>\n",
       "  <td>blockchain</td>\n",
       "  <td>blockchain</td>\n",
       "  <td>blockchain</td>\n",
       "  <td>channel</td>\n",
       " </tr>\n",
       " <tr><th>6</th>\n",
       "  <td>reset 4</td>\n",
       "  <td>reset 4</td>\n",
       "  <td>reset 4</td>\n",
       "  <td>reset 4</td>\n",
       "  <td>channel</td>\n",
       "  <td>channel</td>\n",
       "  <td>channel</td>\n",
       " </tr>\n",
       " <tr><th>8</th>\n",
       "  <td>reset 4</td>\n",
       "  <td>reset 4</td>\n",
       "  <td>reset 4</td>\n",
       "  <td>reset 4</td>\n",
       "  <td>reset 4</td>\n",
       "  <td>reset 4</td>\n",
       "  <td>reset 4</td>\n",
       "  <td>reset 4</td>\n",
       "  <td>reset 4</td>\n",
       " </tr>\n",
       " <tr><th>10</th>\n",
       "  <td>reset 4</td>\n",
       "  <td>reset 4</td>\n",
       "  <td>reset 4</td>\n",
       "  <td>reset 4</td>\n",
       "  <td>reset 4</td>\n",
       "  <td>reset 4</td>\n",
       "  <td>reset 4</td>\n",
       "  <td>reset 4</td>\n",
       "  <td>reset 4</td>\n",
       "  <td>reset 4</td>\n",
       "  <td>reset 4</td>\n",
       " </tr>\n",
       " <tr><th>12</th>\n",
       "  <td>reset 4</td>\n",
       "  <td>reset 4</td>\n",
       "  <td>reset 4</td>\n",
       "  <td>reset 4</td>\n",
       "  <td>reset 4</td>\n",
       "  <td>reset 4</td>\n",
       "  <td>reset 4</td>\n",
       "  <td>reset 4</td>\n",
       "  <td>reset 4</td>\n",
       "  <td>reset 4</td>\n",
       "  <td>reset 4</td>\n",
       "  <td>reset 4</td>\n",
       "  <td>reset 4</td>\n",
       " </tr>\n",
       " <tr><th>14</th>\n",
       "  <td>reset 4</td>\n",
       "  <td>reset 4</td>\n",
       "  <td>reset 4</td>\n",
       "  <td>reset 4</td>\n",
       "  <td>reset 4</td>\n",
       "  <td>reset 4</td>\n",
       "  <td>reset 4</td>\n",
       "  <td>reset 4</td>\n",
       "  <td>reset 4</td>\n",
       "  <td>reset 4</td>\n",
       "  <td>reset 4</td>\n",
       "  <td>reset 4</td>\n",
       "  <td>reset 4</td>\n",
       "  <td>reset 4</td>\n",
       "  <td>reset 4</td>\n",
       " </tr>\n",
       " <tr><th>16</th>\n",
       "  <td>reset 4</td>\n",
       "  <td>reset 4</td>\n",
       "  <td>reset 4</td>\n",
       "  <td>reset 4</td>\n",
       "  <td>reset 4</td>\n",
       "  <td>reset 4</td>\n",
       "  <td>reset 4</td>\n",
       "  <td>reset 4</td>\n",
       "  <td>reset 4</td>\n",
       "  <td>reset 4</td>\n",
       "  <td>reset 4</td>\n",
       "  <td>reset 4</td>\n",
       "  <td>reset 4</td>\n",
       "  <td>reset 4</td>\n",
       "  <td>reset 4</td>\n",
       "  <td>reset 4</td>\n",
       "  <td>reset 4</td>\n",
       " </tr>\n",
       " <tr><th>18</th>\n",
       "  <td>reset 4</td>\n",
       "  <td>reset 4</td>\n",
       "  <td>reset 4</td>\n",
       "  <td>reset 4</td>\n",
       "  <td>reset 4</td>\n",
       "  <td>reset 4</td>\n",
       "  <td>reset 4</td>\n",
       "  <td>reset 4</td>\n",
       "  <td>reset 4</td>\n",
       "  <td>reset 4</td>\n",
       "  <td>reset 4</td>\n",
       "  <td>reset 4</td>\n",
       "  <td>reset 4</td>\n",
       "  <td>reset 4</td>\n",
       "  <td>reset 4</td>\n",
       "  <td>reset 4</td>\n",
       "  <td>reset 4</td>\n",
       "  <td>reset 4</td>\n",
       "  <td>reset 4</td>\n",
       " </tr>\n",
       " </table>"
      ],
      "text/plain": [
       "<IPython.core.display.HTML object>"
      ]
     },
     "metadata": {},
     "output_type": "display_data"
    }
   ],
   "source": [
    "mdpwallet.setGlobalCapacity(\n",
    "    newNumCapacities = 10,      # Number of different capacities.\n",
    "    newCapacityMultiplier = 2   # The multiplier of the capacities. E.g, with multiplier 10, the capacities are 0,10,20,...\n",
    "    )\n",
    "(policy,value) = findPolicy(\n",
    "    p = 0.1,    # probability that the next send is from Alice to Bob\n",
    "    A = 4,      # amount Alice sends to Bob\n",
    "    B = 1,      # amount Bob sends to Alicec\n",
    "    txCost = 0.1, # Cost of a blockchain transaction\n",
    "    txsPerReset = 1.5, # num of blockchain transactions required for channel reset\n",
    "    interest = 0.001,   # interest rate - cost of locking money in a channel\n",
    "    discount = 0.999    # discount factor for MDP calculations. \n",
    "    )\n",
    "\n",
    "display(HTML(policyToHTML(policy,value)))"
   ]
  },
  {
   "cell_type": "code",
   "execution_count": null,
   "metadata": {
    "collapsed": true
   },
   "outputs": [],
   "source": []
  }
 ],
 "metadata": {
  "kernelspec": {
   "display_name": "Python 3",
   "language": "python",
   "name": "python3"
  },
  "language_info": {
   "codemirror_mode": {
    "name": "ipython",
    "version": 3
   },
   "file_extension": ".py",
   "mimetype": "text/x-python",
   "name": "python",
   "nbconvert_exporter": "python",
   "pygments_lexer": "ipython3",
   "version": "3.5.2"
  }
 },
 "nbformat": 4,
 "nbformat_minor": 2
}
