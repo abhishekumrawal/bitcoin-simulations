{
 "cells": [
  {
   "cell_type": "code",
   "execution_count": 1,
   "metadata": {
    "extensions": {
     "jupyter_dashboards": {
      "version": 1,
      "views": {
       "grid_default": {
        "col": 0,
        "height": 11,
        "hidden": false,
        "row": 0,
        "width": 12
       },
       "report_default": {
        "hidden": false
       }
      }
     }
    }
   },
   "outputs": [
    {
     "name": "stdout",
     "output_type": "stream",
     "text": [
      "Initial funding: Alice=50 Bob=50. Probabilities: Alice->Bob=0.5 Bob->Alice=0.5\n"
     ]
    },
    {
     "data": {
      "image/png": "[encoded data removed]",
      "text/plain": [
       "<matplotlib.figure.Figure at 0x7f0cc8530ac8>"
      ]
     },
     "metadata": {},
     "output_type": "display_data"
    }
   ],
   "source": [
    "import random\n",
    "import numpy as np\n",
    "import matplotlib.pyplot as plt\n",
    "#import bqplot.pyplot as plt\n",
    "\n",
    "def simulate(initA,initB,pAtoB,pBtoA,iterations):\n",
    "    print(\"Initial funding: Alice={} Bob={}. Probabilities: Alice->Bob={} Bob->Alice={}\".format(initA,initB,pAtoB,pBtoA))\n",
    "    balances = []\n",
    "    restarts = []\n",
    "\n",
    "    balanceA = initA\n",
    "    balanceB = initB\n",
    "    restarts.append(0)\n",
    "    balances.append(balanceA)\n",
    "    for i in range(iterations):\n",
    "        restart = 0\n",
    "        if random.random() < pAtoB:\n",
    "            if balanceA <= 0:\n",
    "                balanceA = initA\n",
    "                balanceB = initB\n",
    "                restart = 1\n",
    "            balanceA -= 1\n",
    "            balanceB += 1\n",
    "        if random.random() < pBtoA:\n",
    "            if balanceB <= 0:\n",
    "                balanceA = initA\n",
    "                balanceB = initB\n",
    "                restart = 1\n",
    "            balanceA += 1\n",
    "            balanceB -= 1\n",
    "        balances.append(balanceA)\n",
    "        restarts.append(restart)\n",
    "\n",
    "    #print(\"Plotting\")\n",
    "    if  hasattr(plt, \"subplots\"):\n",
    "        fig, (ax1, ax2) = plt.subplots(2, 1, sharex=True)\n",
    "        ax1.plot(balances,color='b')\n",
    "        ax1.set_title('Balance of Alice')\n",
    "        ax1.set_ylim((0,initA+initB))\n",
    "        ax2.plot(restarts,color='r')\n",
    "        ax2.set_title('Restarts')\n",
    "        plt.show()\n",
    "    else:\n",
    "        plt.figure()\n",
    "        plt.plot(balances,color=len(balances)*['b'])\n",
    "        plt.figure()\n",
    "        plt.plot(restarts,color=len(balances)*['r'])\n",
    "        plt.show()\n",
    "\n",
    "simulate(\n",
    "    initA = 50,\n",
    "    initB = 50,\n",
    "    pAtoB = 0.5,\n",
    "    pBtoA = 0.5,\n",
    "    iterations = 10000)"
   ]
  },
  {
   "cell_type": "code",
   "execution_count": 2,
   "metadata": {
    "extensions": {
     "jupyter_dashboards": {
      "version": 1,
      "views": {
       "grid_default": {
        "hidden": true
       },
       "report_default": {
        "hidden": false
       }
      }
     }
    }
   },
   "outputs": [
    {
     "name": "stdout",
     "output_type": "stream",
     "text": [
      "erelsgl\n",
      "\n"
     ]
    }
   ],
   "source": [
    "import subprocess\n",
    "print(subprocess.check_output(\"whoami\", shell=True, universal_newlines=True))"
   ]
  },
  {
   "cell_type": "code",
   "execution_count": null,
   "metadata": {
    "collapsed": true
   },
   "outputs": [],
   "source": []
  }
 ],
 "metadata": {
  "extensions": {
   "jupyter_dashboards": {
    "activeView": "report_default",
    "version": 1,
    "views": {
     "grid_default": {
      "cellMargin": 10,
      "defaultCellHeight": 20,
      "maxColumns": 12,
      "name": "grid",
      "type": "grid"
     },
     "report_default": {
      "name": "report",
      "type": "report"
     }
    }
   }
  },
  "kernelspec": {
   "display_name": "Python 3",
   "language": "python",
   "name": "python3"
  },
  "language_info": {
   "codemirror_mode": {
    "name": "ipython",
    "version": 3
   },
   "file_extension": ".py",
   "mimetype": "text/x-python",
   "name": "python",
   "nbconvert_exporter": "python",
   "pygments_lexer": "ipython3",
   "version": "3.5.2"
  }
 },
 "nbformat": 4,
 "nbformat_minor": 2
}
