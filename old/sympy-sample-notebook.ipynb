{
 "cells": [
  {
   "cell_type": "code",
   "execution_count": 1,
   "metadata": {
    "collapsed": true
   },
   "outputs": [],
   "source": [
    "import numpy as np\n",
    "import sympy\n",
    "sympy.init_printing(use_unicode=True)\n",
    "from sympy import *\n",
    "from sympy.solvers import solve\n",
    "from IPython.display import display\n",
    "\n",
    "def simplified(exp):\n",
    "    simp = simplify(exp)\n",
    "    display(simp)\n",
    "    return simp\n",
    "\n",
    "def firstOrderCondition(exp, var, iSelectedSolution=None):\n",
    "    diffExp = simplify(diff(exp, var))\n",
    "    display(diffExp)\n",
    "    solutions = solve(diffExp, var)\n",
    "    display(solutions)\n",
    "    if iSelectedSolution is not None:\n",
    "        solution = solutions[iSelectedSolution]\n",
    "        optimum = exp.subs(var, solution)\n",
    "        return simplified(optimum)\n",
    "    else:\n",
    "        return solutions\n",
    "\n",
    "x = symbols('x')\n",
    "w,A,B = symbols('w A B', Integer=True, Positive=True)\n",
    "n,p,q,d = symbols('n p q d', positive=True)"
   ]
  },
  {
   "cell_type": "markdown",
   "metadata": {},
   "source": [
    "### Optimal Channel Initialization"
   ]
  },
  {
   "cell_type": "code",
   "execution_count": 3,
   "metadata": {},
   "outputs": [
    {
     "data": {
      "image/png": "[encoded data removed]",
      "text/latex": [
       "$$\\frac{n \\left(\\left(- \\frac{p}{p - 1}\\right)^{w} - 1\\right) - w \\left(\\left(- \\frac{p}{p - 1}\\right)^{n} - 1\\right)}{\\left(2 p - 1\\right) \\left(\\left(- \\frac{p}{p - 1}\\right)^{w} - 1\\right)}$$"
      ],
      "text/plain": [
       "  ⎛       w    ⎞     ⎛       n    ⎞\n",
       "  ⎜⎛ -p  ⎞     ⎟     ⎜⎛ -p  ⎞     ⎟\n",
       "n⋅⎜⎜─────⎟  - 1⎟ - w⋅⎜⎜─────⎟  - 1⎟\n",
       "  ⎝⎝p - 1⎠     ⎠     ⎝⎝p - 1⎠     ⎠\n",
       "───────────────────────────────────\n",
       "                ⎛       w    ⎞     \n",
       "                ⎜⎛ -p  ⎞     ⎟     \n",
       "      (2⋅p - 1)⋅⎜⎜─────⎟  - 1⎟     \n",
       "                ⎝⎝p - 1⎠     ⎠     "
      ]
     },
     "metadata": {},
     "output_type": "display_data"
    }
   ],
   "source": [
    "Xn = simplified(n/(2*p-1) - w/(2*p-1)*(1-(p/(1-p))**n)/(1-(p/(1-p))**w) )"
   ]
  },
  {
   "cell_type": "code",
   "execution_count": 4,
   "metadata": {},
   "outputs": [
    {
     "data": {
      "image/png": "[encoded data removed]",
      "text/latex": [
       "$$\\frac{- w \\left(- \\frac{p}{p - 1}\\right)^{n} \\log{\\left (- \\frac{p}{p - 1} \\right )} + \\left(- \\frac{p}{p - 1}\\right)^{w} - 1}{\\left(2 p - 1\\right) \\left(\\left(- \\frac{p}{p - 1}\\right)^{w} - 1\\right)}$$"
      ],
      "text/plain": [
       "           n                     w    \n",
       "    ⎛ -p  ⎞     ⎛ -p  ⎞   ⎛ -p  ⎞     \n",
       "- w⋅⎜─────⎟ ⋅log⎜─────⎟ + ⎜─────⎟  - 1\n",
       "    ⎝p - 1⎠     ⎝p - 1⎠   ⎝p - 1⎠     \n",
       "──────────────────────────────────────\n",
       "                 ⎛       w    ⎞       \n",
       "                 ⎜⎛ -p  ⎞     ⎟       \n",
       "       (2⋅p - 1)⋅⎜⎜─────⎟  - 1⎟       \n",
       "                 ⎝⎝p - 1⎠     ⎠       "
      ]
     },
     "metadata": {},
     "output_type": "display_data"
    },
    {
     "ename": "NotImplementedError",
     "evalue": "multiple generators [(-1/(p - 1))**n, p**n]\nNo algorithms are implemented to solve equation -w*(-p/(p - 1))**n*log(-p/(p - 1)) + (-p/(p - 1))**w - 1",
     "output_type": "error",
     "traceback": [
      "\u001b[0;31m---------------------------------------------------------------------------\u001b[0m",
      "\u001b[0;31mNotImplementedError\u001b[0m                       Traceback (most recent call last)",
      "\u001b[0;32m<ipython-input-4-0ccd9e78de2c>\u001b[0m in \u001b[0;36m<module>\u001b[0;34m()\u001b[0m\n\u001b[0;32m----> 1\u001b[0;31m \u001b[0mfirstOrderCondition\u001b[0m\u001b[0;34m(\u001b[0m\u001b[0mXn\u001b[0m\u001b[0;34m,\u001b[0m\u001b[0mn\u001b[0m\u001b[0;34m)\u001b[0m\u001b[0;34m\u001b[0m\u001b[0m\n\u001b[0m",
      "\u001b[0;32m<ipython-input-1-cdada59cd6d7>\u001b[0m in \u001b[0;36mfirstOrderCondition\u001b[0;34m(exp, var, iSelectedSolution)\u001b[0m\n\u001b[1;32m     14\u001b[0m     \u001b[0mdiffExp\u001b[0m \u001b[0;34m=\u001b[0m \u001b[0msimplify\u001b[0m\u001b[0;34m(\u001b[0m\u001b[0mdiff\u001b[0m\u001b[0;34m(\u001b[0m\u001b[0mexp\u001b[0m\u001b[0;34m,\u001b[0m \u001b[0mvar\u001b[0m\u001b[0;34m)\u001b[0m\u001b[0;34m)\u001b[0m\u001b[0;34m\u001b[0m\u001b[0m\n\u001b[1;32m     15\u001b[0m     \u001b[0mdisplay\u001b[0m\u001b[0;34m(\u001b[0m\u001b[0mdiffExp\u001b[0m\u001b[0;34m)\u001b[0m\u001b[0;34m\u001b[0m\u001b[0m\n\u001b[0;32m---> 16\u001b[0;31m     \u001b[0msolutions\u001b[0m \u001b[0;34m=\u001b[0m \u001b[0msolve\u001b[0m\u001b[0;34m(\u001b[0m\u001b[0mdiffExp\u001b[0m\u001b[0;34m,\u001b[0m \u001b[0mvar\u001b[0m\u001b[0;34m)\u001b[0m\u001b[0;34m\u001b[0m\u001b[0m\n\u001b[0m\u001b[1;32m     17\u001b[0m     \u001b[0mdisplay\u001b[0m\u001b[0;34m(\u001b[0m\u001b[0msolutions\u001b[0m\u001b[0;34m)\u001b[0m\u001b[0;34m\u001b[0m\u001b[0m\n\u001b[1;32m     18\u001b[0m     \u001b[0;32mif\u001b[0m \u001b[0miSelectedSolution\u001b[0m \u001b[0;32mis\u001b[0m \u001b[0;32mnot\u001b[0m \u001b[0;32mNone\u001b[0m\u001b[0;34m:\u001b[0m\u001b[0;34m\u001b[0m\u001b[0m\n",
      "\u001b[0;32m/usr/local/lib/python3.5/dist-packages/sympy/solvers/solvers.py\u001b[0m in \u001b[0;36msolve\u001b[0;34m(f, *symbols, **flags)\u001b[0m\n\u001b[1;32m   1063\u001b[0m     \u001b[0;31m###########################################################################\u001b[0m\u001b[0;34m\u001b[0m\u001b[0;34m\u001b[0m\u001b[0m\n\u001b[1;32m   1064\u001b[0m     \u001b[0;32mif\u001b[0m \u001b[0mbare_f\u001b[0m\u001b[0;34m:\u001b[0m\u001b[0;34m\u001b[0m\u001b[0m\n\u001b[0;32m-> 1065\u001b[0;31m         \u001b[0msolution\u001b[0m \u001b[0;34m=\u001b[0m \u001b[0m_solve\u001b[0m\u001b[0;34m(\u001b[0m\u001b[0mf\u001b[0m\u001b[0;34m[\u001b[0m\u001b[0;36m0\u001b[0m\u001b[0;34m]\u001b[0m\u001b[0;34m,\u001b[0m \u001b[0;34m*\u001b[0m\u001b[0msymbols\u001b[0m\u001b[0;34m,\u001b[0m \u001b[0;34m**\u001b[0m\u001b[0mflags\u001b[0m\u001b[0;34m)\u001b[0m\u001b[0;34m\u001b[0m\u001b[0m\n\u001b[0m\u001b[1;32m   1066\u001b[0m     \u001b[0;32melse\u001b[0m\u001b[0;34m:\u001b[0m\u001b[0;34m\u001b[0m\u001b[0m\n\u001b[1;32m   1067\u001b[0m         \u001b[0msolution\u001b[0m \u001b[0;34m=\u001b[0m \u001b[0m_solve_system\u001b[0m\u001b[0;34m(\u001b[0m\u001b[0mf\u001b[0m\u001b[0;34m,\u001b[0m \u001b[0msymbols\u001b[0m\u001b[0;34m,\u001b[0m \u001b[0;34m**\u001b[0m\u001b[0mflags\u001b[0m\u001b[0;34m)\u001b[0m\u001b[0;34m\u001b[0m\u001b[0m\n",
      "\u001b[0;32m/usr/local/lib/python3.5/dist-packages/sympy/solvers/solvers.py\u001b[0m in \u001b[0;36m_solve\u001b[0;34m(f, *symbols, **flags)\u001b[0m\n\u001b[1;32m   1346\u001b[0m                 \u001b[0mresult\u001b[0m \u001b[0;34m=\u001b[0m \u001b[0mset\u001b[0m\u001b[0;34m(\u001b[0m\u001b[0;34m)\u001b[0m\u001b[0;34m\u001b[0m\u001b[0m\n\u001b[1;32m   1347\u001b[0m                 \u001b[0;32mbreak\u001b[0m\u001b[0;34m\u001b[0m\u001b[0m\n\u001b[0;32m-> 1348\u001b[0;31m             \u001b[0msoln\u001b[0m \u001b[0;34m=\u001b[0m \u001b[0m_solve\u001b[0m\u001b[0;34m(\u001b[0m\u001b[0mm\u001b[0m\u001b[0;34m,\u001b[0m \u001b[0msymbol\u001b[0m\u001b[0;34m,\u001b[0m \u001b[0;34m**\u001b[0m\u001b[0mflags\u001b[0m\u001b[0;34m)\u001b[0m\u001b[0;34m\u001b[0m\u001b[0m\n\u001b[0m\u001b[1;32m   1349\u001b[0m             \u001b[0mresult\u001b[0m\u001b[0;34m.\u001b[0m\u001b[0mupdate\u001b[0m\u001b[0;34m(\u001b[0m\u001b[0mset\u001b[0m\u001b[0;34m(\u001b[0m\u001b[0msoln\u001b[0m\u001b[0;34m)\u001b[0m\u001b[0;34m)\u001b[0m\u001b[0;34m\u001b[0m\u001b[0m\n\u001b[1;32m   1350\u001b[0m         \u001b[0mresult\u001b[0m \u001b[0;34m=\u001b[0m \u001b[0mlist\u001b[0m\u001b[0;34m(\u001b[0m\u001b[0mresult\u001b[0m\u001b[0;34m)\u001b[0m\u001b[0;34m\u001b[0m\u001b[0m\n",
      "\u001b[0;32m/usr/local/lib/python3.5/dist-packages/sympy/solvers/solvers.py\u001b[0m in \u001b[0;36m_solve\u001b[0;34m(f, *symbols, **flags)\u001b[0m\n\u001b[1;32m   1632\u001b[0m \u001b[0;34m\u001b[0m\u001b[0m\n\u001b[1;32m   1633\u001b[0m     \u001b[0;32mif\u001b[0m \u001b[0mresult\u001b[0m \u001b[0;32mis\u001b[0m \u001b[0;32mFalse\u001b[0m\u001b[0;34m:\u001b[0m\u001b[0;34m\u001b[0m\u001b[0m\n\u001b[0;32m-> 1634\u001b[0;31m         \u001b[0;32mraise\u001b[0m \u001b[0mNotImplementedError\u001b[0m\u001b[0;34m(\u001b[0m\u001b[0;34m'\\n'\u001b[0m\u001b[0;34m.\u001b[0m\u001b[0mjoin\u001b[0m\u001b[0;34m(\u001b[0m\u001b[0;34m[\u001b[0m\u001b[0mmsg\u001b[0m\u001b[0;34m,\u001b[0m \u001b[0mnot_impl_msg\u001b[0m \u001b[0;34m%\u001b[0m \u001b[0mf\u001b[0m\u001b[0;34m]\u001b[0m\u001b[0;34m)\u001b[0m\u001b[0;34m)\u001b[0m\u001b[0;34m\u001b[0m\u001b[0m\n\u001b[0m\u001b[1;32m   1635\u001b[0m \u001b[0;34m\u001b[0m\u001b[0m\n\u001b[1;32m   1636\u001b[0m     \u001b[0;32mif\u001b[0m \u001b[0mflags\u001b[0m\u001b[0;34m.\u001b[0m\u001b[0mget\u001b[0m\u001b[0;34m(\u001b[0m\u001b[0;34m'simplify'\u001b[0m\u001b[0;34m,\u001b[0m \u001b[0;32mTrue\u001b[0m\u001b[0;34m)\u001b[0m\u001b[0;34m:\u001b[0m\u001b[0;34m\u001b[0m\u001b[0m\n",
      "\u001b[0;31mNotImplementedError\u001b[0m: multiple generators [(-1/(p - 1))**n, p**n]\nNo algorithms are implemented to solve equation -w*(-p/(p - 1))**n*log(-p/(p - 1)) + (-p/(p - 1))**w - 1"
     ]
    }
   ],
   "source": [
    "firstOrderCondition(Xn,n)"
   ]
  },
  {
   "cell_type": "code",
   "execution_count": 22,
   "metadata": {},
   "outputs": [
    {
     "data": {
      "image/png": "[encoded data removed]",
      "text/latex": [
       "$$n - n q^{- \\frac{w}{B}} - w + q^{- \\frac{n}{B}} w$$"
      ],
      "text/plain": [
       "       -w         -n   \n",
       "       ───        ───  \n",
       "        B          B   \n",
       "n - n⋅q    - w + q   ⋅w"
      ]
     },
     "metadata": {},
     "output_type": "display_data"
    },
    {
     "data": {
      "image/png": "[encoded data removed]",
      "text/latex": [
       "$$1 - q^{- \\frac{w}{B}} - \\frac{w}{B} q^{- \\frac{n}{B}} \\log{\\left (q \\right )}$$"
      ],
      "text/plain": [
       "            -n          \n",
       "     -w     ───         \n",
       "     ───     B          \n",
       "      B    q   ⋅w⋅log(q)\n",
       "1 - q    - ─────────────\n",
       "                 B      "
      ]
     },
     "metadata": {},
     "output_type": "display_data"
    },
    {
     "data": {
      "image/png": "[encoded data removed]",
      "text/latex": [
       "$$\\left [ \\frac{B}{\\log{\\left (q \\right )}} \\log{\\left (\\frac{q^{\\frac{w}{B}} w \\log{\\left (q \\right )}}{B \\left(q^{\\frac{w}{B}} - 1\\right)} \\right )}\\right ]$$"
      ],
      "text/plain": [
       "⎡     ⎛ w         ⎞⎤\n",
       "⎢     ⎜ ─         ⎟⎥\n",
       "⎢     ⎜ B         ⎟⎥\n",
       "⎢     ⎜q ⋅w⋅log(q)⎟⎥\n",
       "⎢B⋅log⎜───────────⎟⎥\n",
       "⎢     ⎜   ⎛ w    ⎞⎟⎥\n",
       "⎢     ⎜   ⎜ ─    ⎟⎟⎥\n",
       "⎢     ⎜   ⎜ B    ⎟⎟⎥\n",
       "⎢     ⎝ B⋅⎝q  - 1⎠⎠⎥\n",
       "⎢──────────────────⎥\n",
       "⎣      log(q)      ⎦"
      ]
     },
     "metadata": {},
     "output_type": "display_data"
    },
    {
     "data": {
      "image/png": "[encoded data removed]",
      "text/latex": [
       "$$\\left [ \\frac{B}{\\log{\\left (q \\right )}} \\log{\\left (\\frac{q^{\\frac{w}{B}} w \\log{\\left (q \\right )}}{B \\left(q^{\\frac{w}{B}} - 1\\right)} \\right )}\\right ]$$"
      ],
      "text/plain": [
       "⎡     ⎛ w         ⎞⎤\n",
       "⎢     ⎜ ─         ⎟⎥\n",
       "⎢     ⎜ B         ⎟⎥\n",
       "⎢     ⎜q ⋅w⋅log(q)⎟⎥\n",
       "⎢B⋅log⎜───────────⎟⎥\n",
       "⎢     ⎜   ⎛ w    ⎞⎟⎥\n",
       "⎢     ⎜   ⎜ ─    ⎟⎟⎥\n",
       "⎢     ⎜   ⎜ B    ⎟⎟⎥\n",
       "⎢     ⎝ B⋅⎝q  - 1⎠⎠⎥\n",
       "⎢──────────────────⎥\n",
       "⎣      log(q)      ⎦"
      ]
     },
     "execution_count": 22,
     "metadata": {},
     "output_type": "execute_result"
    }
   ],
   "source": [
    "Xn = simplified(n*(1-q**(-w/B)) - w*(1-q**(-n/B)))\n",
    "firstOrderCondition(Xn,n)"
   ]
  },
  {
   "cell_type": "code",
   "execution_count": 133,
   "metadata": {},
   "outputs": [
    {
     "data": {
      "image/png": "[encoded data removed]",
      "text/latex": [
       "$$\\frac{1}{\\log{\\left (q \\right )}} \\log{\\left (\\frac{q^{w} w \\log{\\left (q \\right )}}{q^{w} - 1} \\right )}$$"
      ],
      "text/plain": [
       "   ⎛ w         ⎞\n",
       "   ⎜q ⋅w⋅log(q)⎟\n",
       "log⎜───────────⎟\n",
       "   ⎜    w      ⎟\n",
       "   ⎝   q  - 1  ⎠\n",
       "────────────────\n",
       "     log(q)     "
      ]
     },
     "execution_count": 133,
     "metadata": {},
     "output_type": "execute_result"
    }
   ],
   "source": [
    "nopt.subs(B,1)"
   ]
  },
  {
   "cell_type": "code",
   "execution_count": 134,
   "metadata": {},
   "outputs": [
    {
     "data": {
      "image/png": "[encoded data removed]",
      "text/latex": [
       "$$- 1.44269504088896 B \\log{\\left (- \\frac{0.693147180559945 \\cdot 0.5^{\\frac{w}{B}} w}{B \\left(0.5^{\\frac{w}{B}} - 1\\right)} \\right )}$$"
      ],
      "text/plain": [
       "                       ⎛                      w   ⎞\n",
       "                       ⎜                      ─   ⎟\n",
       "                       ⎜                      B   ⎟\n",
       "                       ⎜-0.693147180559945⋅0.5 ⋅w ⎟\n",
       "-1.44269504088896⋅B⋅log⎜──────────────────────────⎟\n",
       "                       ⎜         ⎛   w    ⎞       ⎟\n",
       "                       ⎜         ⎜   ─    ⎟       ⎟\n",
       "                       ⎜         ⎜   B    ⎟       ⎟\n",
       "                       ⎝       B⋅⎝0.5  - 1⎠       ⎠"
      ]
     },
     "execution_count": 134,
     "metadata": {},
     "output_type": "execute_result"
    }
   ],
   "source": [
    "nopt.subs(q,1/2)"
   ]
  },
  {
   "cell_type": "code",
   "execution_count": 136,
   "metadata": {},
   "outputs": [
    {
     "data": {
      "image/png": "[encoded data removed]",
      "text/latex": [
       "$$\\frac{q^{- \\frac{w}{B}}}{\\log{\\left (q \\right )}} \\left(B \\left(q^{\\frac{w}{B}} - 1\\right) \\log{\\left (\\frac{q^{\\frac{w}{B}} w \\log{\\left (q \\right )}}{B \\left(q^{\\frac{w}{B}} - 1\\right)} \\right )} + B \\left(q^{\\frac{w}{B}} - 1\\right) - q^{\\frac{w}{B}} w \\log{\\left (q \\right )}\\right)$$"
      ],
      "text/plain": [
       "     ⎛              ⎛ w         ⎞                           ⎞\n",
       " -w  ⎜  ⎛ w    ⎞    ⎜ ─         ⎟     ⎛ w    ⎞    w         ⎟\n",
       " ─── ⎜  ⎜ ─    ⎟    ⎜ B         ⎟     ⎜ ─    ⎟    ─         ⎟\n",
       "  B  ⎜  ⎜ B    ⎟    ⎜q ⋅w⋅log(q)⎟     ⎜ B    ⎟    B         ⎟\n",
       "q   ⋅⎜B⋅⎝q  - 1⎠⋅log⎜───────────⎟ + B⋅⎝q  - 1⎠ - q ⋅w⋅log(q)⎟\n",
       "     ⎜              ⎜   ⎛ w    ⎞⎟                           ⎟\n",
       "     ⎜              ⎜   ⎜ ─    ⎟⎟                           ⎟\n",
       "     ⎜              ⎜   ⎜ B    ⎟⎟                           ⎟\n",
       "     ⎝              ⎝ B⋅⎝q  - 1⎠⎠                           ⎠\n",
       "─────────────────────────────────────────────────────────────\n",
       "                            log(q)                           "
      ]
     },
     "execution_count": 136,
     "metadata": {},
     "output_type": "execute_result"
    }
   ],
   "source": [
    "sympy.simplify(Xn.subs(n,nopt))"
   ]
  },
  {
   "cell_type": "code",
   "execution_count": 7,
   "metadata": {},
   "outputs": [
    {
     "data": {
      "image/png": "[encoded data removed]",
      "text/latex": [
       "$$\\frac{1}{x - 1} \\left(A x^{A + 1} - x^{A} \\left(A + 1\\right) + 1\\right)$$"
      ],
      "text/plain": [
       "   A + 1    A            \n",
       "A⋅x      - x ⋅(A + 1) + 1\n",
       "─────────────────────────\n",
       "          x - 1          "
      ]
     },
     "execution_count": 7,
     "metadata": {},
     "output_type": "execute_result"
    }
   ],
   "source": [
    "cp = (A * x**(A+1) - (A+1)*x**A + 1)/(x-1)\n",
    "cp"
   ]
  },
  {
   "cell_type": "code",
   "execution_count": 23,
   "metadata": {},
   "outputs": [
    {
     "ename": "NameError",
     "evalue": "name 'cp' is not defined",
     "output_type": "error",
     "traceback": [
      "\u001b[0;31m---------------------------------------------------------------------------\u001b[0m",
      "\u001b[0;31mNameError\u001b[0m                                 Traceback (most recent call last)",
      "\u001b[0;32m<ipython-input-23-5d750a3380ad>\u001b[0m in \u001b[0;36m<module>\u001b[0;34m()\u001b[0m\n\u001b[0;32m----> 1\u001b[0;31m \u001b[0msympy\u001b[0m\u001b[0;34m.\u001b[0m\u001b[0msimplify\u001b[0m\u001b[0;34m(\u001b[0m\u001b[0mcp\u001b[0m\u001b[0;34m.\u001b[0m\u001b[0msubs\u001b[0m\u001b[0;34m(\u001b[0m\u001b[0mA\u001b[0m\u001b[0;34m,\u001b[0m \u001b[0;36m3\u001b[0m\u001b[0;34m)\u001b[0m\u001b[0;34m)\u001b[0m\u001b[0;34m\u001b[0m\u001b[0m\n\u001b[0m",
      "\u001b[0;31mNameError\u001b[0m: name 'cp' is not defined"
     ]
    }
   ],
   "source": [
    "sympy.simplify(cp.subs(A, 3))"
   ]
  }
 ],
 "metadata": {
  "kernelspec": {
   "display_name": "Python 3",
   "language": "python",
   "name": "python3"
  },
  "language_info": {
   "codemirror_mode": {
    "name": "ipython",
    "version": 3
   },
   "file_extension": ".py",
   "mimetype": "text/x-python",
   "name": "python",
   "nbconvert_exporter": "python",
   "pygments_lexer": "ipython3",
   "version": "3.5.2"
  }
 },
 "nbformat": 4,
 "nbformat_minor": 2
}
