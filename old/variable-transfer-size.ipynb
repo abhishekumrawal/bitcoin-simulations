{
 "cells": [
  {
   "cell_type": "code",
   "execution_count": 1,
   "metadata": {
    "collapsed": true
   },
   "outputs": [],
   "source": [
    "import numpy as np\n",
    "import sympy\n",
    "sympy.init_printing(use_unicode=True)\n",
    "from sympy import *\n",
    "from sympy.solvers import solve\n",
    "from sympy.solvers.ode import dsolve\n",
    "from IPython.display import display\n",
    "from typing import Callable\n",
    "from sympy.utilities.lambdify import lambdify, implemented_function\n",
    "\n",
    "%matplotlib inline\n",
    "import matplotlib.pyplot as plt\n",
    "\n",
    "def simplified(exp, title=None):\n",
    "    simp = simplify(exp)\n",
    "    if simplified.LOG:\n",
    "        if title: display(title,simp)\n",
    "        else: display(simp)\n",
    "    return simp\n",
    "simplified.LOG = True\n",
    "\n",
    "def firstOrderCondition(exp, var):\n",
    "    diffExp = simplified(diff(exp, var))\n",
    "    solutions = solve(diffExp, var)\n",
    "    if firstOrderCondition.LOG:\n",
    "        display(solutions)\n",
    "    return solutions\n",
    "firstOrderCondition.LOG = True\n",
    "  \n",
    "class Result(object):   # a class for holding results of calculations\n",
    "    def __repr__(self): return self.__dict__.__repr__()\n",
    "    def display(self):\n",
    "        for k,v in sorted(self.__dict__.items()):\n",
    "            display(k,v)\n",
    "    def subs(self, params):\n",
    "        ans = Result()\n",
    "        for k,v in sorted(self.__dict__.items()):\n",
    "            if hasattr(v,\"subs\"):\n",
    "                ans.__dict__[k] = v.subs(params)\n",
    "            else:\n",
    "                ans.__dict__[k] = v\n",
    "        return ans"
   ]
  },
  {
   "cell_type": "markdown",
   "metadata": {},
   "source": [
    "# Symbolic calculations"
   ]
  },
  {
   "cell_type": "code",
   "execution_count": 2,
   "metadata": {},
   "outputs": [
    {
     "data": {
      "image/png": "[encoded data removed]",
      "text/latex": [
       "$$\\left ( \\Delta, \\quad \\tau, \\quad \\phi\\right )$$"
      ],
      "text/plain": [
       "(\\Delta, \\tau, \\phi)"
      ]
     },
     "execution_count": 2,
     "metadata": {},
     "output_type": "execute_result"
    }
   ],
   "source": [
    "a,p,r,b,vmax,zmin,zmax,beta = symbols('a \\\\phi r z v_{\\max} z_{\\min} z_{\\max} \\\\beta', positive=True,finite=True,real=True)\n",
    "w,T,D,L,n,Supply = symbols('w T \\\\Delta \\\\ell n \\\\tau', positive=True,finite=True,real=True)\n",
    "D,Supply,p"
   ]
  },
  {
   "cell_type": "code",
   "execution_count": 3,
   "metadata": {},
   "outputs": [
    {
     "data": {
      "image/png": "[encoded data removed]",
      "text/latex": [
       "$$1$$"
      ],
      "text/plain": [
       "1"
      ]
     },
     "metadata": {},
     "output_type": "display_data"
    },
    {
     "data": {
      "image/png": "[encoded data removed]",
      "text/latex": [
       "$$1$$"
      ],
      "text/plain": [
       "1"
      ]
     },
     "metadata": {},
     "output_type": "display_data"
    },
    {
     "data": {
      "image/png": "[encoded data removed]",
      "text/latex": [
       "$$\\frac{z_{\\max}}{2}$$"
      ],
      "text/plain": [
       "z_{\\max}\n",
       "────────\n",
       "   2    "
      ]
     },
     "metadata": {},
     "output_type": "display_data"
    },
    {
     "data": {
      "image/png": "[encoded data removed]",
      "text/latex": [
       "$$\\infty$$"
      ],
      "text/plain": [
       "∞"
      ]
     },
     "metadata": {},
     "output_type": "display_data"
    }
   ],
   "source": [
    "def exactCostPerDay(T):\n",
    "    return (a*p + w*b*( (1+r)**T - 1 )) / T\n",
    "\n",
    "def approxCostPerDay(T):\n",
    "    return a*p/T + w*b*r\n",
    "\n",
    "def symmetricLifetime(w):\n",
    "    return w**2/4/L\n",
    "\n",
    "def asymmetricLifetime(w):\n",
    "    return w / D\n",
    "\n",
    "\n",
    "uniformPDF = Piecewise( (1 / zmax , b<zmax), (0, True) )\n",
    "powerlawPDF =  Piecewise( (0 , b<zmin), (zmin / b**2, True) )\n",
    "\n",
    "display(sympy.integrate(uniformPDF, (b, 0, sympy.oo)))  # should be 1\n",
    "display(sympy.integrate(powerlawPDF, (b, 0, sympy.oo))) # should be 1\n",
    "display(sympy.integrate(b*uniformPDF, (b, 0, sympy.oo)))  # should be zmax/2\n",
    "display(sympy.integrate(b*powerlawPDF, (b, 0, sympy.oo))) # should be infinity!"
   ]
  },
  {
   "cell_type": "code",
   "execution_count": 4,
   "metadata": {
    "collapsed": true
   },
   "outputs": [],
   "source": [
    "params = {\n",
    "    L: 10,           # total transfers per day \n",
    "    D: 6,            # delta transfers per day \n",
    "    beta: 0.01,      # value / transfer-size\n",
    "    r: 4/100/365,    # interest rate per day\n",
    "    a: 1.1,          # records per reset tx\n",
    "    Supply: 288000,  # records per day\n",
    "    zmin: 0.001,     # min transfer size (for power law distribution)\n",
    "    zmax: 1,         # max transfer size (for uniform distribution)\n",
    "}"
   ]
  },
  {
   "cell_type": "code",
   "execution_count": 31,
   "metadata": {},
   "outputs": [
    {
     "data": {
      "image/png": "[encoded data removed]",
      "text/latex": [
       "$$\\int_{0}^{x - 1} \\frac{t{\\left (y \\right )}}{\\left(x - y\\right)^{2}}\\, dy + \\int_{x + 1}^{w} \\frac{t{\\left (y \\right )}}{\\left(x - y\\right)^{2}}\\, dy$$"
      ],
      "text/plain": [
       "x - 1                 w              \n",
       "  ⌠                   ⌠              \n",
       "  ⎮     t(y)          ⎮     t(y)     \n",
       "  ⎮   ──────── dy +   ⎮   ──────── dy\n",
       "  ⎮          2        ⎮          2   \n",
       "  ⎮   (x - y)         ⎮   (x - y)    \n",
       "  ⌡                   ⌡              \n",
       "  0                 x + 1            "
      ]
     },
     "metadata": {},
     "output_type": "display_data"
    },
    {
     "data": {
      "image/png": "[encoded data removed]",
      "text/latex": [
       "$$t{\\left (x - 1 \\right )} - t{\\left (x + 1 \\right )} + \\int_{0}^{x - 1} \\left(- \\frac{2 t{\\left (y \\right )}}{\\left(x - y\\right)^{3}}\\right)\\, dy + \\int_{x + 1}^{w} \\left(- \\frac{2 t{\\left (y \\right )}}{\\left(x - y\\right)^{3}}\\right)\\, dy$$"
      ],
      "text/plain": [
       "                      x - 1                 w              \n",
       "                        ⌠                   ⌠              \n",
       "                        ⎮   -2⋅t(y)         ⎮   -2⋅t(y)    \n",
       "t(x - 1) - t(x + 1) +   ⎮   ──────── dy +   ⎮   ──────── dy\n",
       "                        ⎮          3        ⎮          3   \n",
       "                        ⎮   (x - y)         ⎮   (x - y)    \n",
       "                        ⌡                   ⌡              \n",
       "                        0                 x + 1            "
      ]
     },
     "execution_count": 31,
     "metadata": {},
     "output_type": "execute_result"
    }
   ],
   "source": [
    "x,y,t=symbols(\"x y t\")\n",
    "intt = 1 + simplified(sympy.integrate(t(y)/(x-y)**2, (y,0,x-1)) + sympy.integrate(t(y)/(x-y)**2, (y,x+1,w)))\n",
    "intt.diff(x)"
   ]
  },
  {
   "cell_type": "code",
   "execution_count": 36,
   "metadata": {},
   "outputs": [
    {
     "data": {
      "image/png": "[encoded data removed]",
      "text/latex": [
       "$$\\left ( \\int_{\\max\\left(0, x - 1\\right)}^{\\min\\left(w, x + 1\\right)} t{\\left (y \\right )}\\, dy, \\quad - t{\\left (\\max\\left(0, x - 1\\right) \\right )} \\theta\\left(x - 1\\right) + t{\\left (\\min\\left(w, x + 1\\right) \\right )} \\theta\\left(w - x - 1\\right) + \\int_{\\max\\left(0, x - 1\\right)}^{\\min\\left(w, x + 1\\right)} 0\\, dy\\right )$$"
      ],
      "text/plain": [
       "⎛Min(w, x + 1)                                                                \n",
       "⎜      ⌠                                                                      \n",
       "⎜      ⎮       t(y) dy, -t(Max(0, x - 1))⋅Heaviside(x - 1) + t(Min(w, x + 1))⋅\n",
       "⎜      ⌡                                                                      \n",
       "⎝Max(0, x - 1)                                                                \n",
       "\n",
       "                       Min(w, x + 1)     ⎞\n",
       "                             ⌠           ⎟\n",
       "Heaviside(w - x - 1) +       ⎮       0 dy⎟\n",
       "                             ⌡           ⎟\n",
       "                       Max(0, x - 1)     ⎠"
      ]
     },
     "execution_count": 36,
     "metadata": {},
     "output_type": "execute_result"
    }
   ],
   "source": [
    "intu = sympy.integrate(t(y), (y, sympy.Max(0,x-1),sympy.Min(w,x+1)))\n",
    "intu, intu.diff(x)"
   ]
  },
  {
   "cell_type": "code",
   "execution_count": 43,
   "metadata": {},
   "outputs": [
    {
     "data": {
      "image/png": "[encoded data removed]",
      "text/latex": [
       "$$\\left ( \\int_{x - 1}^{x + 1} t{\\left (y \\right )}\\, dy, \\quad - t{\\left (x - 1 \\right )} + t{\\left (x + 1 \\right )} + \\int_{x - 1}^{x + 1} 0\\, dy\\right )$$"
      ],
      "text/plain": [
       "⎛x + 1                                 x + 1     ⎞\n",
       "⎜  ⌠                                     ⌠       ⎟\n",
       "⎜  ⎮   t(y) dy, -t(x - 1) + t(x + 1) +   ⎮   0 dy⎟\n",
       "⎜  ⌡                                     ⌡       ⎟\n",
       "⎝x - 1                                 x - 1     ⎠"
      ]
     },
     "execution_count": 43,
     "metadata": {},
     "output_type": "execute_result"
    }
   ],
   "source": [
    "intr = sympy.integrate(t(y), (y, x-1, x+1))\n",
    "intr, intr.diff(x)"
   ]
  },
  {
   "cell_type": "code",
   "execution_count": 6,
   "metadata": {},
   "outputs": [
    {
     "data": {
      "image/png": "[encoded data removed]",
      "text/latex": [
       "$$f{\\left (x \\right )} = C_{1} + \\int f{\\left (x + 1 \\right )}\\, dx$$"
      ],
      "text/plain": [
       "            ⌠            \n",
       "f(x) = C₁ + ⎮ f(x + 1) dx\n",
       "            ⌡            "
      ]
     },
     "execution_count": 6,
     "metadata": {},
     "output_type": "execute_result"
    }
   ],
   "source": [
    "from sympy import *\n",
    "x = symbols(\"x\")\n",
    "f = Function(\"f\")\n",
    "f_ = Derivative(f(x),x)\n",
    "dsolve(f_ - f(x+1), f(x))"
   ]
  },
  {
   "cell_type": "code",
   "execution_count": null,
   "metadata": {
    "collapsed": true
   },
   "outputs": [],
   "source": [
    "### See solution in https://stackoverflow.com/a/46755444/827927"
   ]
  }
 ],
 "metadata": {
  "kernelspec": {
   "display_name": "Python 3",
   "language": "python",
   "name": "python3"
  },
  "language_info": {
   "codemirror_mode": {
    "name": "ipython",
    "version": 3
   },
   "file_extension": ".py",
   "mimetype": "text/x-python",
   "name": "python",
   "nbconvert_exporter": "python",
   "pygments_lexer": "ipython3",
   "version": "3.5.2"
  }
 },
 "nbformat": 4,
 "nbformat_minor": 2
}
